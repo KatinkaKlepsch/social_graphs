{
 "cells": [
  {
   "cell_type": "code",
   "execution_count": 2,
   "metadata": {
    "scrolled": true
   },
   "outputs": [],
   "source": [
    "import warnings\n",
    "\n",
    "def fxn():\n",
    "    warnings.warn(\"deprecated\", DeprecationWarning)\n",
    "\n",
    "with warnings.catch_warnings():\n",
    "    warnings.simplefilter(\"ignore\")\n",
    "    fxn()\n",
    "    "
   ]
  },
  {
   "cell_type": "code",
   "execution_count": 4,
   "metadata": {},
   "outputs": [],
   "source": [
    "import community\n",
    "import pandas as pd\n",
    "import re\n",
    "import warnings\n",
    "import nltk\n",
    "import pickle\n",
    "import networkx as nx\n",
    "import numpy as np\n",
    "import matplotlib.pyplot as plt\n",
    "from nltk.tokenize import WordPunctTokenizer \n",
    "from nltk.stem import WordNetLemmatizer\n",
    "import json\n",
    "import community as community_louvain\n",
    "import community as generate_dendrogram\n",
    "import numpy as np\n",
    "import matplotlib.pyplot as plt\n",
    "from fa2 import ForceAtlas2\n",
    "from nltk.probability import FreqDist\n",
    "import math\n",
    "from nltk.tokenize import sent_tokenize\n",
    "from nltk.corpus import PlaintextCorpusReader\n",
    "from fa2 import ForceAtlas2\n",
    "from pyvis import network as net\n",
    "from pyvis.network import Network\n",
    "from IPython.core.display import display, HTML"
   ]
  },
  {
   "cell_type": "code",
   "execution_count": 5,
   "metadata": {},
   "outputs": [],
   "source": [
    "file_to_read = open(\"marvel_movies_raw_text.pickle\", \"rb\")\n",
    "movies_raw_text = pickle.load(file_to_read)\n",
    "file_to_read.close()\n",
    "\n",
    "file_to_read = open(\"marvel_characters_raw_text.pickle\", \"rb\")\n",
    "characters_raw_text = pickle.load(file_to_read)\n",
    "file_to_read.close()\n",
    "\n",
    "file_to_read_characters = open(\"df_characters.pickle\", \"rb\")\n",
    "df_characters = pickle.load(file_to_read_characters)\n",
    "file_to_read_characters.close()\n",
    "\n",
    "file_to_read_movies = open(\"df_movies.pickle\", \"rb\")\n",
    "df_movies = pickle.load(file_to_read_movies)\n",
    "file_to_read_movies.close()\n",
    "\n",
    "file_to_read_movies = open(\"df_tv.pickle\", \"rb\")\n",
    "df_tv = pickle.load(file_to_read_movies)\n",
    "file_to_read_movies.close()\n",
    "\n",
    "\n",
    "file_to_read_movies = open(\"graph_G.pickle\", \"rb\")\n",
    "G = pickle.load(file_to_read_movies)\n",
    "file_to_read_movies.close()\n",
    "\n",
    "file_to_read_movies = open(\"links.pickle\", \"rb\")\n",
    "links = pickle.load(file_to_read_movies)\n",
    "file_to_read_movies.close()\n",
    "\n",
    "file_to_read_movies = open(\"attributes.pickle\", \"rb\")\n",
    "attributes = pickle.load(file_to_read_movies)\n",
    "file_to_read_movies.close()\n",
    "\n",
    "file_to_read_movies = open(\"attributes_org_character.pickle\", \"rb\")\n",
    "attributes_org = pickle.load(file_to_read_movies)\n",
    "file_to_read_movies.close()\n",
    "\n",
    "file_to_read_movies = open(\"attributes_character_all.pickle\", \"rb\")\n",
    "attributes_teams = pickle.load(file_to_read_movies)\n",
    "file_to_read_movies.close()"
   ]
  },
  {
   "cell_type": "markdown",
   "metadata": {},
   "source": [
    "#### Add phase color to movie df"
   ]
  },
  {
   "cell_type": "code",
   "execution_count": 6,
   "metadata": {},
   "outputs": [],
   "source": [
    "def f(row):\n",
    "    '''\n",
    "    Function that defines color dependent on movie phase\n",
    "    '''\n",
    "    node_size =100\n",
    "    if row['Phase']== 'Phase_One_Movies':\n",
    "        edge_col ='magenta'\n",
    "    elif row['Phase']== 'Phase_Two_Movies':\n",
    "        edge_col ='lightpink'\n",
    "    elif row['Phase']== 'Phase_Three_Movies':\n",
    "        edge_col ='orange'\n",
    "    else:\n",
    "        edge_col ='purple'\n",
    "    return edge_col"
   ]
  },
  {
   "cell_type": "code",
   "execution_count": 7,
   "metadata": {},
   "outputs": [],
   "source": [
    "df_movies['color'] =  df_movies.apply(f, axis=1)\n",
    "df_movies['size']  = 30\n",
    "df_movies['title']  = df_movies['movies']"
   ]
  },
  {
   "cell_type": "markdown",
   "metadata": {},
   "source": [
    "#### Exrtract relevant info from teams and organasation"
   ]
  },
  {
   "cell_type": "code",
   "execution_count": 8,
   "metadata": {},
   "outputs": [],
   "source": [
    "# Extract only relevant values from teams and organsation\n",
    "attr_org_teams = {}\n",
    "for keys, values in attributes_org.items():\n",
    "    attr_org_teams[keys]={'Organisation(s)':values['Organisation(s)'], \n",
    "                          'Team(s)':attributes_teams[keys]['Team(s)']}"
   ]
  },
  {
   "cell_type": "code",
   "execution_count": 9,
   "metadata": {
    "scrolled": true
   },
   "outputs": [],
   "source": [
    "teams = []\n",
    "for keys, values in attr_org_teams.items():\n",
    "    for t in values['Team(s)']:\n",
    "        teams.append(t)\n",
    "teams_unique = np.unique(teams)\n"
   ]
  },
  {
   "cell_type": "code",
   "execution_count": 10,
   "metadata": {},
   "outputs": [],
   "source": [
    "#colors = list(np.random.choice(range(256), size=len(teams_unique)))\n",
    "\n",
    "from random import randint\n",
    "\n",
    "colors = []\n",
    "n = len(teams_unique)\n",
    "\n",
    "for i in range(n):\n",
    "    colors.append('#%06X' % randint(0, 0xFFFFFF))"
   ]
  },
  {
   "cell_type": "code",
   "execution_count": 11,
   "metadata": {},
   "outputs": [],
   "source": [
    "# creaate color for a team and add to character\n",
    "teams_unique = np.unique(teams)\n",
    "clr = {teams_unique[i]: colors[i] for i in range(len(np.unique(teams)))}\n",
    "color_teams = {}\n",
    "for key, values in attr_org_teams.items():\n",
    "    if len(values['Team(s)'])>0:\n",
    "        if len(values['Team(s)'])>1:\n",
    "            color_teams[key] = {'color': clr[values['Team(s)'][0]]}\n",
    "        else:\n",
    "            color_teams[key] = {'color': clr[''.join(values['Team(s)'])]}\n",
    "    else:\n",
    "        color_teams[key] = {'color': 'grey'}"
   ]
  },
  {
   "cell_type": "markdown",
   "metadata": {},
   "source": [
    "# Character graph\n",
    "* The character graph is made using the characters as nodes and an edge exists if another character is mentioned on his characters page. The width of the edge indicates how many times the mentioned character is mentioned \n",
    "> * we assume that the more a character is mentioned the more connected are the two characters\n",
    "> * The colors of the nodes are ?\n",
    "> * The size of the nodes are either the size of the degree or the number of movies the character has been in. \n",
    "\n",
    "The visualisations are made on the undirected graph"
   ]
  },
  {
   "cell_type": "code",
   "execution_count": 12,
   "metadata": {},
   "outputs": [],
   "source": [
    "# GCC\n",
    "D_GCC = G.subgraph(max(nx.weakly_connected_components(G), key=len))\n",
    "U_GCC = D_GCC.to_undirected()"
   ]
  },
  {
   "cell_type": "markdown",
   "metadata": {},
   "source": [
    "## Add additional attributes to the character graph"
   ]
  },
  {
   "cell_type": "code",
   "execution_count": 13,
   "metadata": {},
   "outputs": [],
   "source": [
    "# add degree as an attribute\n",
    "degrees = dict(U_GCC.degree)\n",
    "degrees.update((key,value) for key, value in degrees.items())\n",
    "nx.set_node_attributes(U_GCC,degrees,'size')\n",
    "\n",
    "# Add organisation attributes to the graph\n",
    "nx.set_node_attributes(U_GCC,attr_org_teams)"
   ]
  },
  {
   "cell_type": "code",
   "execution_count": 14,
   "metadata": {},
   "outputs": [],
   "source": [
    "# Save movie_tv_graph\n",
    "file_to_store = open(\"character_graph_color_status.pickle\", \"wb\")\n",
    "pickle.dump(U_GCC, file_to_store)\n",
    "file_to_store.close()\n",
    "\n"
   ]
  },
  {
   "cell_type": "markdown",
   "metadata": {},
   "source": [
    "## Graph visualisation of character graph\n",
    "### Interaktiv graph - character graphs\n",
    "\n",
    "> * Det kunne være nice at farvelægge efter teams\n",
    "\n",
    "\n",
    "#### Grafer som kunne være nice\n",
    "* Graphs with characters and their links - colored by teams - tjek\n",
    "* Graphs with characters and their links - colored by status - tjek\n",
    "* Graph with all caharacters and movies as nodes\n",
    "\n",
    "* Graphs with characters and their links - colored by citizen? \n",
    "\n",
    "### Graphs to show development\n",
    "* "
   ]
  },
  {
   "cell_type": "code",
   "execution_count": 24,
   "metadata": {},
   "outputs": [],
   "source": [
    "# Set attributes\n",
    "titles = {}\n",
    "att = {}\n",
    "color = {}\n",
    "for name, data in U_GCC.nodes(data = True):\n",
    "    color[name] = {'color': 'skyblue'}\n",
    "    title = 'name: '+ name +'</br>movies: ' + str(data['movies']) +\\\n",
    "    '</br>tv-serie: ' + str(data['tv-serie'])+\\\n",
    "    '</br>Teams: ' + str(data['Team(s)']) +\\\n",
    "    '</br>Organisation: ' + str(data['Organisation(s)']) + \\\n",
    "    ' </br>citizen: ' + str(data['citizen']) + \\\n",
    "    ' </br>specie: ' + str(data['specie']) + \\\n",
    "    ' </br>status: ' + str(data['status'])\n",
    "    \n",
    "    titles[name] = title\n",
    "    node_size = 1+data['No_movies']\n",
    "    att[name] = {'size': node_size}\n",
    "nx.set_node_attributes(U_GCC, titles, 'title')\n",
    "# nx.set_node_attributes(D_GCC, att) # Hvis number of movies skal være node size (men så overser vi dem i tv -serier)\n"
   ]
  },
  {
   "cell_type": "code",
   "execution_count": 25,
   "metadata": {},
   "outputs": [],
   "source": [
    "def pyvis_graph(G, header, html_title, notebook = False, gravity=-50, central_gravity=0.01, spring_length=50, spring_strength=0.02, damping=1):\n",
    "    character_graph = Network(height='750px', width='90%', \n",
    "                              #bgcolor='#222222',\n",
    "                              heading=header, notebook = notebook)\n",
    "    character_graph.from_nx(G)\n",
    "    character_graph.force_atlas_2based(gravity=gravity, central_gravity=central_gravity, spring_length=spring_length, spring_strength=spring_strength, damping=damping, overlap=0)\n",
    "    #character_graph.show_buttons(filter_=['physics'])\n",
    "    return character_graph.show(html_title)\n",
    "    \n",
    "    "
   ]
  },
  {
   "cell_type": "code",
   "execution_count": 26,
   "metadata": {
    "scrolled": true
   },
   "outputs": [],
   "source": [
    "# Colored by status\n",
    "\n",
    "pyvis_graph(U_GCC, 'Marvel Cinematic Universe Character Overview', 'character_graph_no_color.html')"
   ]
  },
  {
   "cell_type": "code",
   "execution_count": 408,
   "metadata": {
    "scrolled": true
   },
   "outputs": [],
   "source": [
    "# Colored by teams\n",
    "nx.set_node_attributes(U_GCC,color_teams) # Changing node attribute\n",
    "\n",
    "pyvis_graph(U_GCC, 'Marvel Cinematic Universe Character Overview, colored by status', 'character_graph_color_teams.html')"
   ]
  },
  {
   "cell_type": "code",
   "execution_count": null,
   "metadata": {},
   "outputs": [],
   "source": []
  },
  {
   "cell_type": "markdown",
   "metadata": {},
   "source": [
    "# Create graph with all characters and movies\n",
    "Links are created if a character mentions a movies"
   ]
  },
  {
   "cell_type": "code",
   "execution_count": 616,
   "metadata": {},
   "outputs": [],
   "source": [
    "movie_links_all = {}\n",
    "for k,v in attributes.items():\n",
    "    movie_links_all[k] = [va for va in v['movies']]\n",
    "    \n",
    "#Copy graph and create a graph with movies and characters as nodes\n",
    "U_GCC_with_movies = U_GCC.copy()\n",
    "U_GCC_with_movies.add_nodes_from(df_movies['movies'])"
   ]
  },
  {
   "cell_type": "code",
   "execution_count": 580,
   "metadata": {},
   "outputs": [],
   "source": [
    "# add edge between movies and character\n",
    "for k, m in movie_links_all.items():\n",
    "    for i in m:\n",
    "        U_GCC_with_movies.add_edge(k,i)"
   ]
  },
  {
   "cell_type": "code",
   "execution_count": 581,
   "metadata": {
    "scrolled": true
   },
   "outputs": [],
   "source": [
    "# add atributes for movies and size and color\n",
    "attribute_size = {}\n",
    "for node in U_GCC_with_movies.nodes():\n",
    "    if (node in list(df_movies['movies'])):\n",
    "        #set the node name as the key and the label as its value \n",
    "        attribute_size[node] = {'size': 20,'shape': 'diamond', 'color': ''.join(df_movies[df_movies['movies'] == node]['color'].values)}\n",
    "    else:\n",
    "        attribute_size[node] = {'size': 10, 'color': 'skyblue'}\n",
    "\n",
    "nx.set_node_attributes(U_GCC_with_movies,attribute_size)\n",
    "\n",
    "degrees = dict(U_GCC_with_movies.degree)\n",
    "degrees.update((key,value) for key, value in degrees.items())\n",
    "nx.set_node_attributes(U_GCC_with_movies,degrees,'size')"
   ]
  },
  {
   "cell_type": "code",
   "execution_count": 582,
   "metadata": {},
   "outputs": [],
   "source": [
    "# Create graph with all characters and movies as nodes!\n",
    "pyvis_graph(U_GCC_with_movies, 'Marvel Cinematic Universe Character Overview with movies', \n",
    "            'character_graph_movies_only (skal ikke med).html', gravity=-30)\n",
    "\n",
    "\n"
   ]
  },
  {
   "cell_type": "markdown",
   "metadata": {},
   "source": [
    "Graph show there is the movie part and then there are the tv serie part??"
   ]
  },
  {
   "cell_type": "code",
   "execution_count": null,
   "metadata": {},
   "outputs": [],
   "source": []
  },
  {
   "cell_type": "markdown",
   "metadata": {},
   "source": [
    "# Character graph with tv-series and movies (0)\n"
   ]
  },
  {
   "cell_type": "code",
   "execution_count": 724,
   "metadata": {},
   "outputs": [],
   "source": [
    "# Create links so we can see what character connects the movies and tv-series\n",
    "tv_movie_character_links = {}\n",
    "\n",
    "for k,v in attributes.items():\n",
    "    links = []\n",
    "    for va in v['tv-serie']:\n",
    "        links.append(va)\n",
    "    for vaa in v['movies']:\n",
    "        links.append(vaa)\n",
    "    tv_movie_character_links[k] = links\n",
    "\n",
    "#Copy graph and create a graph with movies and characters as nodes\n",
    "U_GCC_with_movies_tv_series = U_GCC.copy()\n",
    "U_GCC_with_movies_tv_series.add_nodes_from(df_movies['movies'])\n",
    "U_GCC_with_movies_tv_series.add_nodes_from(df_tv['tv_series'])"
   ]
  },
  {
   "cell_type": "code",
   "execution_count": 725,
   "metadata": {},
   "outputs": [],
   "source": [
    "# add edge between movies and character\n",
    "for k, m in tv_movie_character_links.items():\n",
    "    for i in m:\n",
    "        U_GCC_with_movies_tv_series.add_edge(k,i)"
   ]
  },
  {
   "cell_type": "code",
   "execution_count": 726,
   "metadata": {
    "scrolled": true
   },
   "outputs": [],
   "source": [
    "# add atributes for movies and size and color\n",
    "attribute_size = {}\n",
    "for node in U_GCC_with_movies_tv_series.nodes():\n",
    "    if (node in list(df_movies['movies'])):\n",
    "        #set the node name as the key and the label as its value \n",
    "        attribute_size[node] = {'physics': False,'size': 20,'shape': 'diamond','title': node,'color': ''.join(df_movies[df_movies['movies'] == node]['color'].values)}\n",
    "    elif (node in list(df_tv['tv_series'])):\n",
    "        attribute_size[node] = {'physics': False,'size': 20, 'color': 'lightgreen','title': node, 'shape': 'diamond'}\n",
    "    else: \n",
    "        attribute_size[node] = {'size': 20, 'color': 'skyblue'}\n",
    "\n",
    "nx.set_node_attributes(U_GCC_with_movies_tv_series,attribute_size)\n",
    "degrees = dict(U_GCC_with_movies_tv_series.degree)\n",
    "degrees.update((key,value) for key, value in degrees.items())\n",
    "nx.set_node_attributes(U_GCC_with_movies_tv_series,degrees,'size')\n"
   ]
  },
  {
   "cell_type": "code",
   "execution_count": 727,
   "metadata": {},
   "outputs": [],
   "source": [
    "# Create graph with all characters and movies as nodes!\n",
    "pyvis_graph(U_GCC_with_movies_tv_series, 'Marvel Cinematic Universe Character Overview with Movies and TV-series', \n",
    "            'character_graph_movies_and_tv-series.html', gravity=-30, spring_length=100, \n",
    "            spring_strength=0.1, damping=1)\n",
    "\n",
    "\n"
   ]
  },
  {
   "cell_type": "code",
   "execution_count": null,
   "metadata": {},
   "outputs": [],
   "source": []
  },
  {
   "cell_type": "markdown",
   "metadata": {},
   "source": [
    "# Character graph with tv-series and movies (1)\n",
    "* no links between characters - movies/tv-series are the connection"
   ]
  },
  {
   "cell_type": "code",
   "execution_count": 733,
   "metadata": {},
   "outputs": [],
   "source": [
    "# Create links so we can see what character connects the movies and tv-series\n",
    "tv_movie_character_links = {}\n",
    "\n",
    "for k,v in attributes.items():\n",
    "    links = []\n",
    "    for va in v['tv-serie']:\n",
    "        links.append(va)\n",
    "    for vaa in v['movies']:\n",
    "        links.append(vaa)\n",
    "    tv_movie_character_links[k] = links\n"
   ]
  },
  {
   "cell_type": "code",
   "execution_count": 734,
   "metadata": {
    "scrolled": true
   },
   "outputs": [
    {
     "name": "stdout",
     "output_type": "stream",
     "text": [
      "Number of nodes in total graph: 3370\n",
      "Number of edges in total graph: 3754\n",
      "Number of nodes in GCC: 3062\n",
      "Number of edges in GCC: 3736\n"
     ]
    }
   ],
   "source": [
    "# Create graph\n",
    "G_movies_tv_characters, GCC_movies_tv_characters = \\\n",
    "                    create_graph(tv_movie_character_links, attributes)\n",
    "nx.set_node_attributes(G_movies_tv_characters,degrees,'size')\n",
    "nx.set_node_attributes(G_movies_tv_characters,attr_org_teams)"
   ]
  },
  {
   "cell_type": "code",
   "execution_count": 735,
   "metadata": {},
   "outputs": [],
   "source": [
    "# Add attributes to movies\n",
    "attribute = {}\n",
    "for show in G_movies_tv_characters.nodes():\n",
    "    if show in list(tv_series_unique):\n",
    "        attribute[show] = {'color': 'lightgreen','shape': 'diamond', 'title': show, 'physics': False}\n",
    "    elif show in list(df_movies['movies']):\n",
    "        attribute[show] = {'physics': False, 'shape': 'diamond', 'title': show, 'color': ''.join(df_movies[df_movies['movies'] == show]['color'].values)}\n",
    "    else:\n",
    "        attribute[show] = {'color':'skyblue'}\n",
    "nx.set_node_attributes(G_movies_tv_characters, attribute)"
   ]
  },
  {
   "cell_type": "code",
   "execution_count": 736,
   "metadata": {},
   "outputs": [],
   "source": [
    "# Set attributes to characters\n",
    "titles = {}\n",
    "for name, data in G_movies_tv_characters.nodes(data = True):\n",
    "    if name in attributes.keys():\n",
    "        title = 'name: '+ name +'</br>movies: ' + str(data['movies']) +\\\n",
    "        '</br>tv-serie: ' + str(data['tv-serie'])+\\\n",
    "        '</br>Teams: ' + str(data['Team(s)']) +\\\n",
    "        '</br>Organisation: ' + str(data['Organisation(s)']) + \\\n",
    "        ' </br>citizen: ' + str(data['citizen']) + \\\n",
    "        ' </br>specie: ' + str(data['specie']) + \\\n",
    "        ' </br>status: ' + str(data['status'])\n",
    "    \n",
    "        titles[name] = title\n",
    "nx.set_node_attributes(G_movies_tv_characters, titles, 'title')\n",
    "# nx.set_node_attributes(D_GCC, att) # Hvis number of movies skal være node size (men så overser vi dem i tv -serier)\n"
   ]
  },
  {
   "cell_type": "code",
   "execution_count": 737,
   "metadata": {},
   "outputs": [],
   "source": [
    "# Create graph with all characters and movies as nodes!\n",
    "pyvis_graph(G_movies_tv_characters, 'Marvel Cinematic Universe Character Overview with Movies and TV-series', \n",
    "            'all_character_graph_movies_and_tv-series(skal måske med).html', gravity=-30)\n",
    "\n"
   ]
  },
  {
   "cell_type": "code",
   "execution_count": null,
   "metadata": {},
   "outputs": [],
   "source": []
  },
  {
   "cell_type": "code",
   "execution_count": null,
   "metadata": {},
   "outputs": [],
   "source": []
  },
  {
   "cell_type": "code",
   "execution_count": null,
   "metadata": {},
   "outputs": [],
   "source": []
  },
  {
   "cell_type": "markdown",
   "metadata": {},
   "source": [
    "# Create graph with tv-series"
   ]
  },
  {
   "cell_type": "code",
   "execution_count": null,
   "metadata": {},
   "outputs": [],
   "source": [
    "def get_common_characters(movie_character_dict):\n",
    "    # find common characters in movies\n",
    "    no_movies = len(movie_character_dict.keys())\n",
    "    movie_common_character_dict = {}\n",
    "    no_common_characters_movie = {}\n",
    "    for keys_movies, values_char in movie_character_dict.items():\n",
    "        movies_in_common = []\n",
    "        count = 0\n",
    "        for i in range(no_movies):\n",
    "            try:\n",
    "                next_key = list(movie_character_dict)[list(movie_character_dict).index(keys_movies) + (i+1)]\n",
    "                for names in values_char: # loop over characters in movie\n",
    "                    if names in movie_character_dict[next_key]:\n",
    "                        movies_in_common.append(next_key)\n",
    "            except (ValueError, IndexError):\n",
    "                count += 1\n",
    "        link_ = {i:movies_in_common.count(i) for i in movies_in_common}\n",
    "        no_common_characters_movie[keys_movies] = {k:v for (k,v) in link_.items()}\n",
    "        movie_common_character_dict[keys_movies] = set(movies_in_common)\n",
    "    return no_common_characters_movie,movie_common_character_dict"
   ]
  },
  {
   "cell_type": "code",
   "execution_count": 418,
   "metadata": {},
   "outputs": [],
   "source": [
    "tv_character_dict = {}\n",
    "for tv in df_tv['tv_series']:\n",
    "    in_tv = []\n",
    "    [in_tv.append(character) for character, attribut in attributes.items() if tv in attribut['tv-serie']]\n",
    "    tv_character_dict[tv] = in_tv"
   ]
  },
  {
   "cell_type": "code",
   "execution_count": 419,
   "metadata": {},
   "outputs": [],
   "source": [
    "tv_series_unique = tv_character_dict.keys()"
   ]
  },
  {
   "cell_type": "code",
   "execution_count": 420,
   "metadata": {},
   "outputs": [],
   "source": [
    "no_common_characters_tv, tv_common_character_dict = get_common_characters(tv_character_dict)"
   ]
  },
  {
   "cell_type": "code",
   "execution_count": 421,
   "metadata": {},
   "outputs": [
    {
     "name": "stdout",
     "output_type": "stream",
     "text": [
      "Number of nodes in total graph: 32\n",
      "Number of edges in total graph: 166\n",
      "Number of nodes in GCC: 24\n",
      "Number of edges in GCC: 166\n"
     ]
    }
   ],
   "source": [
    "# Create graph\n",
    "G_tv_common, GCC_tv_common = create_graph(tv_common_character_dict, {})\n",
    "edge_att = get_edge_att(GCC_tv_common,no_common_characters_tv)\n",
    "nx.set_edge_attributes(GCC_tv_common, edge_att)\n",
    "#nx.set_node_attributes(GCC_tv_common, dict_movies_attributes)\n",
    "\n",
    "# add degree as an attribute\n",
    "degrees = dict(G_tv_common.degree)\n",
    "degrees.update((key,value) for key, value in degrees.items())\n",
    "nx.set_node_attributes(G_tv_common,degrees,'size')\n"
   ]
  },
  {
   "cell_type": "code",
   "execution_count": 422,
   "metadata": {},
   "outputs": [
    {
     "data": {
      "text/html": [
       "\n",
       "        <iframe\n",
       "            width=\"90%\"\n",
       "            height=\"750px\"\n",
       "            src=\"tv-series_graph_common (skal ikke med).html\"\n",
       "            frameborder=\"0\"\n",
       "            allowfullscreen\n",
       "            \n",
       "        ></iframe>\n",
       "        "
      ],
      "text/plain": [
       "<IPython.lib.display.IFrame at 0x1343be128>"
      ]
     },
     "execution_count": 422,
     "metadata": {},
     "output_type": "execute_result"
    }
   ],
   "source": [
    "# Create graph with all characters and movies as nodes!\n",
    "pyvis_graph(G_tv_common, 'Marvel Cinematic Universe Character Overview TV-series', \n",
    "            'tv-series_graph_common (skal ikke med).html',gravity = -30,damping=1, notebook = True)"
   ]
  },
  {
   "cell_type": "markdown",
   "metadata": {},
   "source": [
    "# Create Movie graph\n",
    "\n",
    "## Movie graphs\n",
    "* Graph with links where the edges are if movies shares a character\n",
    ">* width are how many shared characters\n",
    ">* Nodes = movies\n",
    "* Graph with selected main characrters, edges through the characters\n",
    ">* Creates an overview of how the characters are connected through movies\n",
    "* Others ?\n",
    "\n",
    "### Movies graphs\n",
    "* Graph with characters and movies (evt TV series)\n",
    "* Graph with movies and phase color"
   ]
  },
  {
   "cell_type": "code",
   "execution_count": 425,
   "metadata": {},
   "outputs": [],
   "source": [
    "def get_edge_att(G, links_no):\n",
    "    '''\n",
    "    Function that returns edge attributes\n",
    "    '''\n",
    "    edge_att ={}\n",
    "    for u,v,_ in list(G.edges(data = True)):\n",
    "        edge_att[(u,v)]={'value': links_no[u][v]}\n",
    "    return edge_att\n",
    "\n",
    "def create_graph(links, dict_movies_attributes):\n",
    "    G = nx.DiGraph(links)\n",
    "    print(\"Number of nodes in total graph: {}\".format(G.number_of_nodes()))\n",
    "    print(\"Number of edges in total graph: {}\".format(G.number_of_edges()))\n",
    "    G.remove_nodes_from(list(nx.isolates(G)))\n",
    "    \n",
    "    nx.set_node_attributes(G,dict_movies_attributes)\n",
    "    \n",
    "    # create giant connected component\n",
    "    GCC = G.subgraph(max(nx.weakly_connected_components(G), key=len)) # the biggest component\n",
    "    print(\"Number of nodes in GCC: {}\".format(GCC.number_of_nodes()))\n",
    "    print(\"Number of edges in GCC: {}\".format(GCC.number_of_edges()))\n",
    "    \n",
    "    return G, GCC"
   ]
  },
  {
   "cell_type": "code",
   "execution_count": 426,
   "metadata": {},
   "outputs": [],
   "source": [
    "# create dictionary with movie attributes\n",
    "dict_movies_attributes = df_movies[\n",
    "    ['movies', 'Phase', 'color', 'size','title']].set_index('movies').T.to_dict('dict')"
   ]
  },
  {
   "cell_type": "markdown",
   "metadata": {},
   "source": [
    "## Movie graph colored in phases (edges with common characters)\n",
    "* Nodes = movies\n",
    "* Edges = common characters\n",
    "* Edge with = number of common characters\n",
    "* Node color = phases\n",
    "* Edge color = ??\n",
    "* Node size ??\n",
    "\n",
    "### Konklusion - giver måske ikke så god mening??"
   ]
  },
  {
   "cell_type": "markdown",
   "metadata": {},
   "source": [
    "**Create a dicitonary with movies as keys and characters in the movies as a list**"
   ]
  },
  {
   "cell_type": "code",
   "execution_count": 428,
   "metadata": {},
   "outputs": [],
   "source": [
    "# Create a dicitonary with movies as keys and characters in the movies as a list\n",
    "movie_character_dict = {}\n",
    "for movie in df_movies['movies']:\n",
    "    in_movie = []\n",
    "    [in_movie.append(character) for character, attribut in attributes.items() if movie in attribut['movies']]\n",
    "    movie_character_dict[movie] = in_movie\n",
    "\n",
    "\n",
    "file_to_store = open(\"movie_character_dict.pickle\", \"wb\")\n",
    "pickle.dump(movie_character_dict, file_to_store)\n",
    "file_to_store.close()\n"
   ]
  },
  {
   "cell_type": "markdown",
   "metadata": {},
   "source": [
    "**Find common characters in each movie**\n",
    "* Add movie to key if they have a common character\n",
    "* Count how many common characters the movies have in common"
   ]
  },
  {
   "cell_type": "code",
   "execution_count": 429,
   "metadata": {},
   "outputs": [],
   "source": [
    "no_common_characters_movie, movie_common_character_dict = get_common_characters(movie_character_dict)"
   ]
  },
  {
   "cell_type": "code",
   "execution_count": 430,
   "metadata": {},
   "outputs": [
    {
     "name": "stdout",
     "output_type": "stream",
     "text": [
      "Number of nodes in total graph: 35\n",
      "Number of edges in total graph: 304\n",
      "Number of nodes in GCC: 32\n",
      "Number of edges in GCC: 304\n"
     ]
    }
   ],
   "source": [
    "# Create graph\n",
    "G_movie_common, GCC_movie_common = create_graph(movie_common_character_dict, {})\n",
    "edge_att = get_edge_att(GCC_movie_common,no_common_characters_movie)\n",
    "nx.set_edge_attributes(GCC_movie_common, edge_att)\n",
    "nx.set_node_attributes(GCC_movie_common, dict_movies_attributes)\n",
    "\n"
   ]
  },
  {
   "cell_type": "code",
   "execution_count": 431,
   "metadata": {},
   "outputs": [],
   "source": [
    "node_movie_size = {}\n",
    "for movie in df_movies['movies']:\n",
    "    node_movie_size[movie] = {'size': 10}\n",
    "nx.set_node_attributes(G_movie_common, node_movie_size)"
   ]
  },
  {
   "cell_type": "code",
   "execution_count": 433,
   "metadata": {
    "scrolled": true
   },
   "outputs": [
    {
     "data": {
      "text/html": [
       "\n",
       "        <iframe\n",
       "            width=\"90%\"\n",
       "            height=\"750px\"\n",
       "            src=\"movie_graph_common (skal ikke med).html\"\n",
       "            frameborder=\"0\"\n",
       "            allowfullscreen\n",
       "            \n",
       "        ></iframe>\n",
       "        "
      ],
      "text/plain": [
       "<IPython.lib.display.IFrame at 0x10d8ce320>"
      ]
     },
     "execution_count": 433,
     "metadata": {},
     "output_type": "execute_result"
    }
   ],
   "source": [
    "# Create graph with all characters and movies as nodes!\n",
    "pyvis_graph(G_movie_common, 'Marvel Cinematic Universe Movie Overview', \n",
    "            'movie_graph_common (skal ikke med).html',gravity = -30,damping=1, notebook = True)"
   ]
  },
  {
   "cell_type": "code",
   "execution_count": null,
   "metadata": {},
   "outputs": [],
   "source": []
  },
  {
   "cell_type": "markdown",
   "metadata": {},
   "source": [
    "# Create graph with movies and tv-series"
   ]
  },
  {
   "cell_type": "code",
   "execution_count": 434,
   "metadata": {},
   "outputs": [],
   "source": [
    "movie_tv_character_dict = {**movie_character_dict , **tv_character_dict}"
   ]
  },
  {
   "cell_type": "code",
   "execution_count": 435,
   "metadata": {},
   "outputs": [],
   "source": [
    "no_common_characters_movie_tv,movie_tv_common_character_dict = get_common_characters(movie_tv_character_dict)"
   ]
  },
  {
   "cell_type": "code",
   "execution_count": 436,
   "metadata": {},
   "outputs": [
    {
     "name": "stdout",
     "output_type": "stream",
     "text": [
      "Number of nodes in total graph: 67\n",
      "Number of edges in total graph: 934\n",
      "Number of nodes in GCC: 57\n",
      "Number of edges in GCC: 933\n"
     ]
    }
   ],
   "source": [
    "# Create graph\n",
    "G_movie_tv_common, GCC_movie_tv_common = create_graph(movie_tv_common_character_dict, {})\n",
    "edge_att = get_edge_att(G_movie_tv_common, no_common_characters_movie_tv)\n",
    "nx.set_edge_attributes(G_movie_tv_common, edge_att)\n",
    "nx.set_node_attributes(G_movie_tv_common, dict_movies_attributes)\n",
    "\n",
    "# add degree as an attribute\n",
    "degrees = dict(G_movie_tv_common.degree)\n",
    "degrees.update((key,value) for key, value in degrees.items())\n",
    "nx.set_node_attributes(G_movie_tv_common,degrees,'size')"
   ]
  },
  {
   "cell_type": "code",
   "execution_count": 437,
   "metadata": {},
   "outputs": [
    {
     "data": {
      "text/html": [
       "\n",
       "        <iframe\n",
       "            width=\"90%\"\n",
       "            height=\"750px\"\n",
       "            src=\"movie_tv_graph_common (skal ikke med).html\"\n",
       "            frameborder=\"0\"\n",
       "            allowfullscreen\n",
       "            \n",
       "        ></iframe>\n",
       "        "
      ],
      "text/plain": [
       "<IPython.lib.display.IFrame at 0x134187d30>"
      ]
     },
     "execution_count": 437,
     "metadata": {},
     "output_type": "execute_result"
    }
   ],
   "source": [
    "# Create graph with all characters and movies as nodes!\n",
    "pyvis_graph(G_movie_tv_common, 'Marvel Cinematic Universe Movie and tv-series Overview', \n",
    "            'movie_tv_graph_common (skal ikke med).html',gravity = -30,damping=1, notebook = True)"
   ]
  },
  {
   "cell_type": "markdown",
   "metadata": {},
   "source": [
    "# Movie graph plot\n",
    "* Nodes = movies and main characters\n",
    "* edges = if they share a main character\n",
    "* Node color = phase color\n",
    "* Node size = set manually - movies largest, then main characters \n",
    "* edge with ??\n",
    "\n",
    "**Using dict_movies_attributes**\n",
    "\n",
    "### Create movie graph (Edges between main characters)\n",
    "> Objective: Explore the marvel movie world - see how movies are connected through main characters\n",
    "\n",
    "* The movie graph is created using the movie dictionary with the 35 movies and then the main characters as nodes. \n",
    "* The edges are determined on what movies the main characters have in common, eg. Iron Man appears in both Iron Man 1 and Avengers, thus Iron Man 1 and Avengers are connected through the character Iron Man."
   ]
  },
  {
   "cell_type": "code",
   "execution_count": 738,
   "metadata": {},
   "outputs": [],
   "source": [
    "# Extract main characters from the movies and create a d dict with the movies \n",
    "# they have appeared in based on the attributes from the graph. \n",
    "main_characters = ('Iron Man', 'Spider-Man', 'Thor','Black Widow',\n",
    "                   'Captain America', 'Captain Marvel','Doctor Strange', 'Hulk', 'Shang-Chi',\n",
    "                   'Star-Lord','Hawkeye', 'Black Panther', 'Steve Rogers','Thena')\n",
    "# main_character_dict = {k: attributes.get(k, None) for k in main_characters}\n",
    "\n",
    "# 'Nick Fury'\n",
    "one_movie_character = ('Michelle Jones','Thanos','Happy Hogan', 'Martinex', 'Audrey Nathan', 'Dane Whitman', 'Church Keeper', 'Isabela Alvarez', 'Uzman', 'Alexei (Pig)', 'Executioner', 'Hutter', 'Knox', 'Meade', 'Norex', 'Thena', 'Kamar-Taj Librarian', 'Nathan Garrett', 'Emily (Housekeeper)', 'Ernesto (Cousin)', 'Gilgamesh', 'Werner von Strucker', 'Adria', 'Moloka Dar', 'M20', 'Lorelei', 'Iron Fist', 'Scrote', 'Black Roger', 'Jackson Norriss', 'Brunette Zealot', 'Crixon', 'Mar-Vell', 'Heinz Kruger', 'Shocker', 'Druig', 'Gef', 'Georges Batroc', 'Tilda Johnson', 'Wilfred Nagel', 'Patriot', 'Janice Lincoln', 'Sophia (Busan)', 'Topaz', 'Tinkerer', 'Great Protector', 'Soo', 'Solohob', 'Tullk', 'Krylorian Attendant', 'Ikaris', 'Vulture', 'Vasily Karpov', 'Yelena Belova', 'Akihiko', 'Ying Li', 'Blackout', 'Chad Davis', 'Eitri', 'Narblik', 'Doris Toomes', 'Rick Mason', 'Huhtar', 'Stoltz', 'Jack (Hammer Industries)', 'Braddock', 'Sonny Burch', 'Limbani', 'Brahl', 'William Gabriel', 'Soh-Larr', 'Mangog', 'Tiamut', 'Ignacio', 'Gerald Durand', 'Eir', 'Kathleen Sparr', 'Donald Blake', 'Karapetyan', 'Katy Chen', 'Surtur', 'Johnny Libatique', 'Ralph Bohner', 'Dweller-in-Darkness', 'Marjorie', 'Lylla', 'Renata', 'Abilisk', 'Red Guardian', 'Benjamin Pollack', 'NoobMaster69', 'Raze', 'Fenris', 'Kro', 'Miles Morales', 'Phastos', 'Sacrifice Nova Corpsman', 'Att-Lass', 'Peachy', 'Gerald (Butler)', 'Buri', 'Mac Gargan', 'Martina', 'Rose (Nanny)', 'Anton Vanko', 'Dave (Henchman)', 'Kronan Marauder', 'Makkari', 'Melinda May', 'John Garrett', 'Rockwell', \"Talos' Daughter\", 'Valentina Allegra de Fontaine', 'Lerato', 'Randy Vale', \"Rhomann Dey's Daughter\", 'Ferdinand Lopez', 'Iron Gang Leader', 'Maya Hansen', \"Luis' Grandmother\", 'Sovereign Admiral', 'Geoff Zorick', 'Priest', 'Kaecilius', 'Stanley Lieber', 'Linda (Mercenary)', 'Elon Musk', 'Raina', 'Schneider (Schutzstaffel)', 'Doug', 'Hildegund', 'Singh', 'Bill Foster', 'Helen Cho', 'Morris (Dijiang)', 'Gutes Guterman', 'Eric Koenig', 'Shawna Lynde', 'Beth', 'Gilmore Hodge', 'Zuri', 'Ingrid (Widow)', 'Dimitri Smerdyakov', 'Oblo', 'Master Minoru', 'Karun Patel', 'Georgi Luchkov', 'Kree Ambassador', 'Foster', 'Victoria Snow', 'Anitolov', 'Mr. Snoofers', 'Razor Fist', 'Tyr', 'Samuel Sterns', 'Horuz', 'Nervous Zealot', 'Retch', 'Griot', 'Ying Nan', 'Kirk Vogel', 'E.D.I.T.H.', 'German Old Man', 'Ellen Brandt', 'Garthan Saal', 'Liz Toomes', 'Eric Savin', 'Xu Xialing', 'Kingo', 'Josef', 'Qajax', 'Rodriguez', 'Melina Vostokoff', 'Selwyn', 'Ghost', 'Lucian Aster', 'Sol Rama', 'Azzuri', 'Ajak', 'Joe Greller', \"Rhomann Dey's Wife\", 'Elihas Starr', 'Pip the Troll', 'Guang Bo', 'Justin Hammer', 'Roeder', 'U.S. Agent', 'Costel', 'Nicodemus West', 'Arishem', 'Ant-thony', 'Lead Scrapper', 'Barney Balkoff', 'Fanny', 'Madame B.', 'Sprite', 'Theo Broussard', 'Leonard Samson', 'Tina Minoru', 'Aleta Ogord', 'Carlo', 'Death Dealer', 'Anne Marie Hoag', \"Klaue's Mercenary\", 'Pearson', 'Blonde Zealot', 'Bron-Char', 'Amanda Carter', 'Edison Po', 'Richard Madison', 'Jackson Brice', 'Fiona Thomas')\n",
    "movie_dict = {k: attributes.get(k, None) for k in one_movie_character+main_characters}"
   ]
  },
  {
   "cell_type": "code",
   "execution_count": 739,
   "metadata": {},
   "outputs": [],
   "source": [
    "# Add dict attributes for the main characters\n",
    "for k in list(main_characters):\n",
    "    dict_movies_attributes[k] = {'Phase': 'character', 'color': 'blue', 'size': 20, 'title': k}\n",
    "\n",
    "    \n",
    "for k in list(one_movie_character):\n",
    "    dict_movies_attributes[k] = {'Phase': 'character', 'color': 'grey', 'size': 10, 'title': k}\n",
    "    "
   ]
  },
  {
   "cell_type": "code",
   "execution_count": 740,
   "metadata": {},
   "outputs": [],
   "source": [
    "# Create links so we can see what character connects the movies\n",
    "movie_links = {}\n",
    "for k,v in movie_dict.items():\n",
    "    movie_links[k] = [va for va in v['movies']]"
   ]
  },
  {
   "cell_type": "code",
   "execution_count": 741,
   "metadata": {
    "scrolled": true
   },
   "outputs": [
    {
     "name": "stdout",
     "output_type": "stream",
     "text": [
      "Number of nodes in total graph: 252\n",
      "Number of edges in total graph: 259\n",
      "Number of nodes in GCC: 174\n",
      "Number of edges in GCC: 218\n"
     ]
    }
   ],
   "source": [
    "G_movies_selected_characters, GCC_movies_selected_characters = \\\n",
    "                    create_graph(movie_links,dict_movies_attributes)"
   ]
  },
  {
   "cell_type": "code",
   "execution_count": 742,
   "metadata": {},
   "outputs": [],
   "source": [
    "attribute = {}\n",
    "for show in G_movies_selected_characters.nodes():\n",
    "    if show in list(df_movies['movies']):\n",
    "        attribute[show] = {'size': 12, 'shape': show,'title': show}\n",
    "        \n",
    "nx.set_node_attributes(G_movies_selected_characters, attribute)"
   ]
  },
  {
   "cell_type": "code",
   "execution_count": 743,
   "metadata": {
    "scrolled": true
   },
   "outputs": [
    {
     "data": {
      "text/html": [
       "\n",
       "        <iframe\n",
       "            width=\"90%\"\n",
       "            height=\"750px\"\n",
       "            src=\"movie_graph_selected_characters (skal ikke med).html\"\n",
       "            frameborder=\"0\"\n",
       "            allowfullscreen\n",
       "            \n",
       "        ></iframe>\n",
       "        "
      ],
      "text/plain": [
       "<IPython.lib.display.IFrame at 0x1343d4e80>"
      ]
     },
     "execution_count": 743,
     "metadata": {},
     "output_type": "execute_result"
    }
   ],
   "source": [
    "# Create graph with all characters and movies as nodes!\n",
    "pyvis_graph(G_movies_selected_characters, 'Marvel Cinematic Universe Movie and main characters', \n",
    "            'movie_graph_selected_characters (skal ikke med).html',gravity = -30,damping=1, notebook = True)"
   ]
  },
  {
   "cell_type": "code",
   "execution_count": null,
   "metadata": {},
   "outputs": [],
   "source": []
  },
  {
   "cell_type": "markdown",
   "metadata": {},
   "source": [
    "## Create graph with main characters and movies only"
   ]
  },
  {
   "cell_type": "code",
   "execution_count": 749,
   "metadata": {},
   "outputs": [],
   "source": [
    "# Extract main characters from the movies and create a d dict with the movies \n",
    "# they have appeared in based on the attributes from the graph. \n",
    "main_characters = ('Iron Man', 'Spider-Man', 'Thor','Black Widow',\n",
    "                   'Captain America', 'Captain Marvel','Doctor Strange', 'Hulk', 'Shang-Chi',\n",
    "                   'Star-Lord','Hawkeye', 'Black Panther', 'Steve Rogers','Thena', 'Phil Coulson', 'Loki',\n",
    "                  'Scarlet Witch', 'Vision', 'Winter Soldier')\n",
    "# main_character_dict = {k: attributes.get(k, None) for k in main_characters}\n",
    "\n",
    "movie_dict = {k: attributes.get(k, None) for k in main_characters}"
   ]
  },
  {
   "cell_type": "code",
   "execution_count": 750,
   "metadata": {},
   "outputs": [],
   "source": [
    "# Add dict attributes for the main characters\n",
    "for k in list(main_characters):\n",
    "    dict_movies_attributes[k] = {'Phase': 'character', 'color': 'skyblue', 'size': 10, 'title': k}\n",
    "\n",
    "# Create links so we can see what character connects the movies\n",
    "movie_links = {}\n",
    "for k,v in movie_dict.items():\n",
    "    movie_links[k] = [va for va in v['movies']]"
   ]
  },
  {
   "cell_type": "code",
   "execution_count": 751,
   "metadata": {
    "scrolled": true
   },
   "outputs": [
    {
     "name": "stdout",
     "output_type": "stream",
     "text": [
      "Number of nodes in total graph: 45\n",
      "Number of edges in total graph: 96\n",
      "Number of nodes in GCC: 41\n",
      "Number of edges in GCC: 94\n"
     ]
    }
   ],
   "source": [
    "G_movies_main_characters, GCC_movies_main_characters = \\\n",
    "                    create_graph(movie_links,dict_movies_attributes)"
   ]
  },
  {
   "cell_type": "code",
   "execution_count": 768,
   "metadata": {},
   "outputs": [],
   "source": [
    "df_movies = df_movies.reset_index().reset_index()\n"
   ]
  },
  {
   "cell_type": "code",
   "execution_count": 802,
   "metadata": {},
   "outputs": [],
   "source": [
    "df_movies['level_0']= df_movies['level_0'].apply(str)"
   ]
  },
  {
   "cell_type": "code",
   "execution_count": 822,
   "metadata": {},
   "outputs": [],
   "source": [
    "attribute = {}\n",
    "for show in G_movies_main_characters.nodes():\n",
    "    if show in list(df_movies['movies'].values):\n",
    "        attribute[show] = { 'size': 12, 'shape': 'box'\n",
    "                           ,'title': show, 'color': ''.join(df_movies[df_movies['movies'] == show]['color'].values)}\n",
    "    else:\n",
    "        attribute[show] = { 'size': 12}\n",
    "\n",
    "nx.set_node_attributes(G_movies_main_characters, attribute)"
   ]
  },
  {
   "cell_type": "code",
   "execution_count": 823,
   "metadata": {},
   "outputs": [
    {
     "data": {
      "text/plain": [
       "{'size': 12, 'shape': 'box', 'title': 'Eternals (film)', 'color': 'purple'}"
      ]
     },
     "execution_count": 823,
     "metadata": {},
     "output_type": "execute_result"
    }
   ],
   "source": [
    "attribute[show]"
   ]
  },
  {
   "cell_type": "code",
   "execution_count": 824,
   "metadata": {
    "scrolled": false
   },
   "outputs": [
    {
     "data": {
      "text/html": [
       "\n",
       "        <iframe\n",
       "            width=\"90%\"\n",
       "            height=\"750px\"\n",
       "            src=\"movie_graph_with_main_char_only.html\"\n",
       "            frameborder=\"0\"\n",
       "            allowfullscreen\n",
       "            \n",
       "        ></iframe>\n",
       "        "
      ],
      "text/plain": [
       "<IPython.lib.display.IFrame at 0x13411fef0>"
      ]
     },
     "execution_count": 824,
     "metadata": {},
     "output_type": "execute_result"
    }
   ],
   "source": [
    "# Set attributes\n",
    "nt = Network(height='750px', width='90%', \n",
    "             notebook = True, \n",
    "             heading='Marvel Cinematic Universe Movie Overview With Main Characters')\n",
    "\n",
    "nt.from_nx(G_movies_main_characters.to_undirected())\n",
    "nt.force_atlas_2based(gravity=-50, central_gravity=0.01, spring_length=50, spring_strength=0.02, damping=1, overlap=0)\n",
    "neighbor_map = nt.get_adj_list()\n",
    "\n",
    "# add neighbor data to node hover data\n",
    "for node in nt.nodes:\n",
    "    node['title'] += ' Neighbors:<br>' + '<br>'.join(neighbor_map[node['id']])\n",
    "    node['value'] = len(neighbor_map[node['id']])\n",
    "\n",
    "nt.show('movie_graph_with_main_char_only.html')\n"
   ]
  },
  {
   "cell_type": "markdown",
   "metadata": {},
   "source": [
    "### Create graph with main characters and tv-series"
   ]
  },
  {
   "cell_type": "code",
   "execution_count": 825,
   "metadata": {},
   "outputs": [],
   "source": [
    "# Extract main characters from the movies and create a d dict with the movies \n",
    "# they have appeared in based on the attributes from the graph. \n",
    "main_characters_tv_serie = ['Nick Fury', 'Iron Fist', 'Jessica Jones', 'Phil Coulson', 'Peggy Carter', 'Thena', 'Spider-Man'\n",
    "                  , 'Punisher', 'Daredevil', 'Luke Cage', 'Loki', 'Hawkeye', 'Scarlet Witch', 'Vision', 'Winter Soldier']\n",
    "# main_character_dict = {k: attributes.get(k, None) for k in main_characters}\n",
    "\n",
    "tv_dict = {k: attributes.get(k, None) for k in main_characters_tv_serie}"
   ]
  },
  {
   "cell_type": "code",
   "execution_count": 826,
   "metadata": {},
   "outputs": [],
   "source": [
    "# Add dict attributes for the main characters\n",
    "dict_tv_attributes\n",
    "for k in list(main_characters_tv_serie):\n",
    "    dict_tv_attributes[k] = {'Phase': 'character', 'color': 'blue', 'size': 10, 'title': k}\n",
    "\n",
    "for k,v in dict_tv_attributes.items():\n",
    "        dict_tv_attributes[k]['color'] = 'skyblue'"
   ]
  },
  {
   "cell_type": "code",
   "execution_count": 827,
   "metadata": {},
   "outputs": [],
   "source": [
    "# Create links so we can see what character connects the movies\n",
    "tv_links = {}\n",
    "for k,v in tv_dict.items():\n",
    "    tv_links[k] = [va for va in v['tv-serie']]"
   ]
  },
  {
   "cell_type": "code",
   "execution_count": 828,
   "metadata": {
    "scrolled": true
   },
   "outputs": [
    {
     "name": "stdout",
     "output_type": "stream",
     "text": [
      "Number of nodes in total graph: 34\n",
      "Number of edges in total graph: 55\n",
      "Number of nodes in GCC: 17\n",
      "Number of edges in GCC: 27\n"
     ]
    }
   ],
   "source": [
    "G_tv_main_characters, GCC_tv_main_characters = \\\n",
    "                    create_graph(tv_links, dict_tv_attributes)"
   ]
  },
  {
   "cell_type": "code",
   "execution_count": 829,
   "metadata": {},
   "outputs": [],
   "source": [
    "tv_series_phase_4 = ['Agent Carter (TV series)', 'Hawkeye (TV series)', 'Loki (TV series)','The Falcon and The Winter Soldier','WandaVision',\n",
    "'What If...?','Spider-Man: Freshman Year']"
   ]
  },
  {
   "cell_type": "code",
   "execution_count": 830,
   "metadata": {},
   "outputs": [],
   "source": [
    "attribute = {}\n",
    "for show in G_tv_main_characters.nodes():\n",
    "    if show in tv_series_unique:\n",
    "        attribute[show] = {'color': 'lightgreen', 'size': 12, 'shape': 'box','title': show}\n",
    "    if show in tv_series_phase_4:\n",
    "        attribute[show] = {'color': 'magenta', 'size': 12, 'shape': 'box', 'title': show}\n",
    "\n",
    "\n",
    "nx.set_node_attributes(G_tv_main_characters, attribute)"
   ]
  },
  {
   "cell_type": "code",
   "execution_count": 831,
   "metadata": {
    "scrolled": true
   },
   "outputs": [
    {
     "data": {
      "text/html": [
       "\n",
       "        <iframe\n",
       "            width=\"90%\"\n",
       "            height=\"750px\"\n",
       "            src=\"tv-series_graph_with_main_char_only.html\"\n",
       "            frameborder=\"0\"\n",
       "            allowfullscreen\n",
       "            \n",
       "        ></iframe>\n",
       "        "
      ],
      "text/plain": [
       "<IPython.lib.display.IFrame at 0x1348e6390>"
      ]
     },
     "execution_count": 831,
     "metadata": {},
     "output_type": "execute_result"
    }
   ],
   "source": [
    "# Set attributes\n",
    "nt = Network(height='750px', width='90%', \n",
    "             notebook = True, \n",
    "             heading='Marvel Cinematic Universe Tv-series Overview With Main Characters')\n",
    "\n",
    "nt.from_nx(G_tv_main_characters.to_undirected())\n",
    "nt.force_atlas_2based(gravity=-50, central_gravity=0.01, spring_length=50, spring_strength=0.02, damping=1, overlap=0)\n",
    "neighbor_map = nt.get_adj_list()\n",
    "\n",
    "# add neighbor data to node hover data\n",
    "for node in nt.nodes:\n",
    "    node['title'] += ' Neighbors:<br>' + '<br>'.join(neighbor_map[node['id']])\n",
    "    node['value'] = len(neighbor_map[node['id']])\n",
    "\n",
    "nt.show('tv-series_graph_with_main_char_only.html')\n",
    "\n"
   ]
  },
  {
   "cell_type": "markdown",
   "metadata": {},
   "source": [
    "## Create graph with main characters and tv-series and movies"
   ]
  },
  {
   "cell_type": "code",
   "execution_count": 832,
   "metadata": {},
   "outputs": [],
   "source": [
    "main_characters_all = set([y for x in [main_characters, main_characters_tv_serie] for y in x])\n",
    "\n",
    "tv_movie_dict = {k: attributes.get(k, None) for k in main_characters_all}"
   ]
  },
  {
   "cell_type": "code",
   "execution_count": 833,
   "metadata": {},
   "outputs": [],
   "source": [
    "# Add dict attributes for the main characters\n",
    "dict_movie_tv_attributes = {}\n",
    "for k in list(main_characters_all):\n",
    "    dict_movie_tv_attributes[k] = {'Phase': 'character', 'color': 'blue', 'size': 10, 'title': k}\n",
    "\n"
   ]
  },
  {
   "cell_type": "code",
   "execution_count": 834,
   "metadata": {},
   "outputs": [],
   "source": [
    "# Create links so we can see what character connects the movies\n",
    "tv_links = {}\n",
    "\n",
    "for k,v in tv_movie_dict.items():\n",
    "    links = []\n",
    "    for va in v['tv-serie']:\n",
    "        links.append(va)\n",
    "    for vaa in v['movies']:\n",
    "        links.append(vaa)\n",
    "    tv_links[k] = links\n",
    "\n",
    "movie_links = {} \n",
    "for k,v in tv_movie_dict.items():\n",
    "    movie_links[k] = [va for va in v['movies']]"
   ]
  },
  {
   "cell_type": "code",
   "execution_count": 835,
   "metadata": {},
   "outputs": [],
   "source": [
    "for k,v in dict_movie_tv_attributes.items():\n",
    "    if k in main_characters:\n",
    "        dict_movie_tv_attributes[k]['color'] = 'magenta'\n",
    "    if k in main_characters_tv_serie:\n",
    "        dict_movie_tv_attributes[k]['color'] = 'purple'\n",
    "    if (k in main_characters_tv_serie) and (k in main_characters):\n",
    "        dict_movie_tv_attributes[k]['color'] = 'blue'"
   ]
  },
  {
   "cell_type": "code",
   "execution_count": 836,
   "metadata": {
    "scrolled": true
   },
   "outputs": [
    {
     "name": "stdout",
     "output_type": "stream",
     "text": [
      "Number of nodes in total graph: 73\n",
      "Number of edges in total graph: 219\n",
      "Number of nodes in GCC: 68\n",
      "Number of edges in GCC: 216\n"
     ]
    }
   ],
   "source": [
    "G_movies_tv_main_characters, GCC_movies_tv_main_characters = \\\n",
    "                    create_graph(tv_links, dict_movie_tv_attributes)"
   ]
  },
  {
   "cell_type": "code",
   "execution_count": 841,
   "metadata": {},
   "outputs": [],
   "source": [
    "attribute = {}\n",
    "for show in G_movies_tv_main_characters.nodes():\n",
    "    if show in list(tv_series_unique):\n",
    "        attribute[show] = {'color': 'torange', 'size': 8, 'shape': 'diamond', 'title': show}\n",
    "    elif show in list(df_movies['movies']):\n",
    "        attribute[show] = {'color': 'lightgreen', 'size': 8, 'shape': 'diamond', 'title': show}\n",
    "    else:\n",
    "        attribute[show] = {'color': 'skyblue'}\n",
    "nx.set_node_attributes(G_movies_tv_main_characters, attribute)"
   ]
  },
  {
   "cell_type": "code",
   "execution_count": 842,
   "metadata": {
    "scrolled": false
   },
   "outputs": [
    {
     "data": {
      "text/html": [
       "\n",
       "        <iframe\n",
       "            width=\"90%\"\n",
       "            height=\"750px\"\n",
       "            src=\"tv_movie_graph_with_main_char(skal måske ikke med).html\"\n",
       "            frameborder=\"0\"\n",
       "            allowfullscreen\n",
       "            \n",
       "        ></iframe>\n",
       "        "
      ],
      "text/plain": [
       "<IPython.lib.display.IFrame at 0x13813b6d8>"
      ]
     },
     "execution_count": 842,
     "metadata": {},
     "output_type": "execute_result"
    }
   ],
   "source": [
    "# Set attributes\n",
    "nt = Network(height='750px', width='90%', \n",
    "             notebook = True, \n",
    "             heading='Marvel Cinematic Universe Tv-series and Movies Overview With Main Characters')\n",
    "\n",
    "nt.from_nx(G_movies_tv_main_characters.to_undirected())\n",
    "nt.force_atlas_2based(gravity=-50, central_gravity=0.01, spring_length=50, spring_strength=0.02, damping=1, overlap=0)\n",
    "\n",
    "neighbor_map = nt.get_adj_list()\n",
    "\n",
    "# add neighbor data to node hover data\n",
    "for node in nt.nodes:\n",
    "    node['title'] += ' Neighbors:<br>' + '<br>'.join(neighbor_map[node['id']])\n",
    "    node['value'] = len(neighbor_map[node['id']])\n",
    "\n",
    "nt.show('tv_movie_graph_with_main_char(skal måske ikke med).html')\n",
    "\n",
    "\n"
   ]
  },
  {
   "cell_type": "code",
   "execution_count": null,
   "metadata": {},
   "outputs": [],
   "source": []
  },
  {
   "cell_type": "markdown",
   "metadata": {},
   "source": [
    "# Community detectioin\n",
    "* community detection med characters og movies - ser ikke så godt ud"
   ]
  },
  {
   "cell_type": "code",
   "execution_count": 528,
   "metadata": {},
   "outputs": [],
   "source": [
    "def get_community_colors(n):\n",
    "    return ['#%02x%02x%02x' % tuple(np.random.randint(256, size = 3)) for _ in range(n)]"
   ]
  },
  {
   "cell_type": "markdown",
   "metadata": {},
   "source": [
    "### Community detection on Original character graph"
   ]
  },
  {
   "cell_type": "code",
   "execution_count": 867,
   "metadata": {},
   "outputs": [],
   "source": [
    "# copy of graph\n",
    "community_graph = U_GCC.copy()\n",
    "\n",
    "partition_U_GCC = community_louvain.best_partition(community_graph)\n",
    "\n",
    "# creaate color dependent on community\n",
    "no_communities = len(set(partition_U_GCC.values()))\n",
    "colors = get_community_colors(no_communities)\n",
    "\n",
    "com = np.arange(0,no_communities)\n",
    "clr = {com[i]: colors[i] for i in range(no_communities)}\n",
    "color_com = {}\n",
    "\n",
    "for keys,values in partition_U_GCC.items():\n",
    "    color_com[keys] = {'color': clr[values]}\n"
   ]
  },
  {
   "cell_type": "code",
   "execution_count": 868,
   "metadata": {},
   "outputs": [],
   "source": [
    "# Add attributes to the graph\n",
    "titles = {}\n",
    "for name, data in community_graph.nodes(data = True):\n",
    "    title = 'name: '+ name + '</br>Community: '+ str(partition_U_GCC[name]) \\\n",
    "                    +'</br>movies: ' + str(data['movies']) +'</br>tv-serie: ' + \\\n",
    "                    str(data['tv-serie'])+'</br>Teams: ' + str(data['Team(s)']) \\\n",
    "                    +'</br>Organisation: ' + str(data['Organisation(s)']) + ' </br>citizen: ' \\\n",
    "                    + str(data['citizen']) + ' </br>specie: ' + str(data['specie']) + ' </br>status: ' \\\n",
    "                    + str(data['status'])\n",
    "    titles[name] = title\n",
    "\n",
    "# nx.set_node_attributes(D_GCC, att) # Hvis number of movies skal være node size (men så overser vi dem i tv -serier)"
   ]
  },
  {
   "cell_type": "code",
   "execution_count": 869,
   "metadata": {},
   "outputs": [],
   "source": [
    "# update attributes\n",
    "nx.set_node_attributes(community_graph, titles, 'title')\n",
    "degrees = dict(community_graph.degree)\n",
    "degrees.update((key,value) for key, value in degrees.items())\n",
    "nx.set_node_attributes(community_graph,degrees,'size')\n",
    "nx.set_node_attributes(community_graph,color_com)\n",
    "\n"
   ]
  },
  {
   "cell_type": "code",
   "execution_count": 870,
   "metadata": {},
   "outputs": [],
   "source": [
    "# Create graph with all characters and movies as nodes!\n",
    "pyvis_graph(community_graph, 'Community Detection of Character graph', \n",
    "            'community_detection_character_graph.html',gravity = -30,damping=1)"
   ]
  },
  {
   "cell_type": "code",
   "execution_count": 881,
   "metadata": {},
   "outputs": [],
   "source": [
    "from collections import Counter\n",
    "no_communities = len(set(partition_U_GCC.values()))\n",
    "com=np.arange(0,no_communities)\n",
    "val=list(Counter(partition_U_GCC.values()).values())\n",
    "df_com_plot = pd.DataFrame({'communities':com,'number_of_characters': val, 'color': colors})"
   ]
  },
  {
   "cell_type": "code",
   "execution_count": 883,
   "metadata": {},
   "outputs": [
    {
     "data": {
      "application/vnd.plotly.v1+json": {
       "config": {
        "plotlyServerURL": "https://plot.ly"
       },
       "data": [
        {
         "alignmentgroup": "True",
         "hovertemplate": "color=#61bcbc<br>communities=%{x}<br>number_of_characters=%{y}<extra></extra>",
         "legendgroup": "#61bcbc",
         "marker": {
          "color": "#FD3216"
         },
         "name": "#61bcbc",
         "offsetgroup": "#61bcbc",
         "orientation": "v",
         "showlegend": true,
         "textposition": "auto",
         "type": "bar",
         "x": [
          0
         ],
         "xaxis": "x",
         "y": [
          238
         ],
         "yaxis": "y"
        },
        {
         "alignmentgroup": "True",
         "hovertemplate": "color=#96ea79<br>communities=%{x}<br>number_of_characters=%{y}<extra></extra>",
         "legendgroup": "#96ea79",
         "marker": {
          "color": "#00FE35"
         },
         "name": "#96ea79",
         "offsetgroup": "#96ea79",
         "orientation": "v",
         "showlegend": true,
         "textposition": "auto",
         "type": "bar",
         "x": [
          1
         ],
         "xaxis": "x",
         "y": [
          116
         ],
         "yaxis": "y"
        },
        {
         "alignmentgroup": "True",
         "hovertemplate": "color=#d42af7<br>communities=%{x}<br>number_of_characters=%{y}<extra></extra>",
         "legendgroup": "#d42af7",
         "marker": {
          "color": "#6A76FC"
         },
         "name": "#d42af7",
         "offsetgroup": "#d42af7",
         "orientation": "v",
         "showlegend": true,
         "textposition": "auto",
         "type": "bar",
         "x": [
          2
         ],
         "xaxis": "x",
         "y": [
          365
         ],
         "yaxis": "y"
        },
        {
         "alignmentgroup": "True",
         "hovertemplate": "color=#bbc0dc<br>communities=%{x}<br>number_of_characters=%{y}<extra></extra>",
         "legendgroup": "#bbc0dc",
         "marker": {
          "color": "#FED4C4"
         },
         "name": "#bbc0dc",
         "offsetgroup": "#bbc0dc",
         "orientation": "v",
         "showlegend": true,
         "textposition": "auto",
         "type": "bar",
         "x": [
          3
         ],
         "xaxis": "x",
         "y": [
          50
         ],
         "yaxis": "y"
        },
        {
         "alignmentgroup": "True",
         "hovertemplate": "color=#242812<br>communities=%{x}<br>number_of_characters=%{y}<extra></extra>",
         "legendgroup": "#242812",
         "marker": {
          "color": "#FE00CE"
         },
         "name": "#242812",
         "offsetgroup": "#242812",
         "orientation": "v",
         "showlegend": true,
         "textposition": "auto",
         "type": "bar",
         "x": [
          4
         ],
         "xaxis": "x",
         "y": [
          229
         ],
         "yaxis": "y"
        },
        {
         "alignmentgroup": "True",
         "hovertemplate": "color=#9b390a<br>communities=%{x}<br>number_of_characters=%{y}<extra></extra>",
         "legendgroup": "#9b390a",
         "marker": {
          "color": "#0DF9FF"
         },
         "name": "#9b390a",
         "offsetgroup": "#9b390a",
         "orientation": "v",
         "showlegend": true,
         "textposition": "auto",
         "type": "bar",
         "x": [
          5
         ],
         "xaxis": "x",
         "y": [
          135
         ],
         "yaxis": "y"
        },
        {
         "alignmentgroup": "True",
         "hovertemplate": "color=#5d84af<br>communities=%{x}<br>number_of_characters=%{y}<extra></extra>",
         "legendgroup": "#5d84af",
         "marker": {
          "color": "#F6F926"
         },
         "name": "#5d84af",
         "offsetgroup": "#5d84af",
         "orientation": "v",
         "showlegend": true,
         "textposition": "auto",
         "type": "bar",
         "x": [
          6
         ],
         "xaxis": "x",
         "y": [
          124
         ],
         "yaxis": "y"
        },
        {
         "alignmentgroup": "True",
         "hovertemplate": "color=#7c7d66<br>communities=%{x}<br>number_of_characters=%{y}<extra></extra>",
         "legendgroup": "#7c7d66",
         "marker": {
          "color": "#FF9616"
         },
         "name": "#7c7d66",
         "offsetgroup": "#7c7d66",
         "orientation": "v",
         "showlegend": true,
         "textposition": "auto",
         "type": "bar",
         "x": [
          7
         ],
         "xaxis": "x",
         "y": [
          51
         ],
         "yaxis": "y"
        },
        {
         "alignmentgroup": "True",
         "hovertemplate": "color=#081278<br>communities=%{x}<br>number_of_characters=%{y}<extra></extra>",
         "legendgroup": "#081278",
         "marker": {
          "color": "#479B55"
         },
         "name": "#081278",
         "offsetgroup": "#081278",
         "orientation": "v",
         "showlegend": true,
         "textposition": "auto",
         "type": "bar",
         "x": [
          8
         ],
         "xaxis": "x",
         "y": [
          80
         ],
         "yaxis": "y"
        },
        {
         "alignmentgroup": "True",
         "hovertemplate": "color=#f0def9<br>communities=%{x}<br>number_of_characters=%{y}<extra></extra>",
         "legendgroup": "#f0def9",
         "marker": {
          "color": "#EEA6FB"
         },
         "name": "#f0def9",
         "offsetgroup": "#f0def9",
         "orientation": "v",
         "showlegend": true,
         "textposition": "auto",
         "type": "bar",
         "x": [
          9
         ],
         "xaxis": "x",
         "y": [
          63
         ],
         "yaxis": "y"
        },
        {
         "alignmentgroup": "True",
         "hovertemplate": "color=#347152<br>communities=%{x}<br>number_of_characters=%{y}<extra></extra>",
         "legendgroup": "#347152",
         "marker": {
          "color": "#DC587D"
         },
         "name": "#347152",
         "offsetgroup": "#347152",
         "orientation": "v",
         "showlegend": true,
         "textposition": "auto",
         "type": "bar",
         "x": [
          10
         ],
         "xaxis": "x",
         "y": [
          34
         ],
         "yaxis": "y"
        },
        {
         "alignmentgroup": "True",
         "hovertemplate": "color=#934ae5<br>communities=%{x}<br>number_of_characters=%{y}<extra></extra>",
         "legendgroup": "#934ae5",
         "marker": {
          "color": "#D626FF"
         },
         "name": "#934ae5",
         "offsetgroup": "#934ae5",
         "orientation": "v",
         "showlegend": true,
         "textposition": "auto",
         "type": "bar",
         "x": [
          11
         ],
         "xaxis": "x",
         "y": [
          32
         ],
         "yaxis": "y"
        },
        {
         "alignmentgroup": "True",
         "hovertemplate": "color=#fa20e1<br>communities=%{x}<br>number_of_characters=%{y}<extra></extra>",
         "legendgroup": "#fa20e1",
         "marker": {
          "color": "#6E899C"
         },
         "name": "#fa20e1",
         "offsetgroup": "#fa20e1",
         "orientation": "v",
         "showlegend": true,
         "textposition": "auto",
         "type": "bar",
         "x": [
          12
         ],
         "xaxis": "x",
         "y": [
          42
         ],
         "yaxis": "y"
        },
        {
         "alignmentgroup": "True",
         "hovertemplate": "color=#767ebe<br>communities=%{x}<br>number_of_characters=%{y}<extra></extra>",
         "legendgroup": "#767ebe",
         "marker": {
          "color": "#00B5F7"
         },
         "name": "#767ebe",
         "offsetgroup": "#767ebe",
         "orientation": "v",
         "showlegend": true,
         "textposition": "auto",
         "type": "bar",
         "x": [
          13
         ],
         "xaxis": "x",
         "y": [
          19
         ],
         "yaxis": "y"
        }
       ],
       "layout": {
        "barmode": "relative",
        "height": 600,
        "legend": {
         "title": {
          "text": "Communities"
         },
         "tracegroupgap": 0
        },
        "template": {
         "data": {
          "bar": [
           {
            "error_x": {
             "color": "#2a3f5f"
            },
            "error_y": {
             "color": "#2a3f5f"
            },
            "marker": {
             "line": {
              "color": "#E5ECF6",
              "width": 0.5
             }
            },
            "type": "bar"
           }
          ],
          "barpolar": [
           {
            "marker": {
             "line": {
              "color": "#E5ECF6",
              "width": 0.5
             }
            },
            "type": "barpolar"
           }
          ],
          "carpet": [
           {
            "aaxis": {
             "endlinecolor": "#2a3f5f",
             "gridcolor": "white",
             "linecolor": "white",
             "minorgridcolor": "white",
             "startlinecolor": "#2a3f5f"
            },
            "baxis": {
             "endlinecolor": "#2a3f5f",
             "gridcolor": "white",
             "linecolor": "white",
             "minorgridcolor": "white",
             "startlinecolor": "#2a3f5f"
            },
            "type": "carpet"
           }
          ],
          "choropleth": [
           {
            "colorbar": {
             "outlinewidth": 0,
             "ticks": ""
            },
            "type": "choropleth"
           }
          ],
          "contour": [
           {
            "colorbar": {
             "outlinewidth": 0,
             "ticks": ""
            },
            "colorscale": [
             [
              0,
              "#0d0887"
             ],
             [
              0.1111111111111111,
              "#46039f"
             ],
             [
              0.2222222222222222,
              "#7201a8"
             ],
             [
              0.3333333333333333,
              "#9c179e"
             ],
             [
              0.4444444444444444,
              "#bd3786"
             ],
             [
              0.5555555555555556,
              "#d8576b"
             ],
             [
              0.6666666666666666,
              "#ed7953"
             ],
             [
              0.7777777777777778,
              "#fb9f3a"
             ],
             [
              0.8888888888888888,
              "#fdca26"
             ],
             [
              1,
              "#f0f921"
             ]
            ],
            "type": "contour"
           }
          ],
          "contourcarpet": [
           {
            "colorbar": {
             "outlinewidth": 0,
             "ticks": ""
            },
            "type": "contourcarpet"
           }
          ],
          "heatmap": [
           {
            "colorbar": {
             "outlinewidth": 0,
             "ticks": ""
            },
            "colorscale": [
             [
              0,
              "#0d0887"
             ],
             [
              0.1111111111111111,
              "#46039f"
             ],
             [
              0.2222222222222222,
              "#7201a8"
             ],
             [
              0.3333333333333333,
              "#9c179e"
             ],
             [
              0.4444444444444444,
              "#bd3786"
             ],
             [
              0.5555555555555556,
              "#d8576b"
             ],
             [
              0.6666666666666666,
              "#ed7953"
             ],
             [
              0.7777777777777778,
              "#fb9f3a"
             ],
             [
              0.8888888888888888,
              "#fdca26"
             ],
             [
              1,
              "#f0f921"
             ]
            ],
            "type": "heatmap"
           }
          ],
          "heatmapgl": [
           {
            "colorbar": {
             "outlinewidth": 0,
             "ticks": ""
            },
            "colorscale": [
             [
              0,
              "#0d0887"
             ],
             [
              0.1111111111111111,
              "#46039f"
             ],
             [
              0.2222222222222222,
              "#7201a8"
             ],
             [
              0.3333333333333333,
              "#9c179e"
             ],
             [
              0.4444444444444444,
              "#bd3786"
             ],
             [
              0.5555555555555556,
              "#d8576b"
             ],
             [
              0.6666666666666666,
              "#ed7953"
             ],
             [
              0.7777777777777778,
              "#fb9f3a"
             ],
             [
              0.8888888888888888,
              "#fdca26"
             ],
             [
              1,
              "#f0f921"
             ]
            ],
            "type": "heatmapgl"
           }
          ],
          "histogram": [
           {
            "marker": {
             "colorbar": {
              "outlinewidth": 0,
              "ticks": ""
             }
            },
            "type": "histogram"
           }
          ],
          "histogram2d": [
           {
            "colorbar": {
             "outlinewidth": 0,
             "ticks": ""
            },
            "colorscale": [
             [
              0,
              "#0d0887"
             ],
             [
              0.1111111111111111,
              "#46039f"
             ],
             [
              0.2222222222222222,
              "#7201a8"
             ],
             [
              0.3333333333333333,
              "#9c179e"
             ],
             [
              0.4444444444444444,
              "#bd3786"
             ],
             [
              0.5555555555555556,
              "#d8576b"
             ],
             [
              0.6666666666666666,
              "#ed7953"
             ],
             [
              0.7777777777777778,
              "#fb9f3a"
             ],
             [
              0.8888888888888888,
              "#fdca26"
             ],
             [
              1,
              "#f0f921"
             ]
            ],
            "type": "histogram2d"
           }
          ],
          "histogram2dcontour": [
           {
            "colorbar": {
             "outlinewidth": 0,
             "ticks": ""
            },
            "colorscale": [
             [
              0,
              "#0d0887"
             ],
             [
              0.1111111111111111,
              "#46039f"
             ],
             [
              0.2222222222222222,
              "#7201a8"
             ],
             [
              0.3333333333333333,
              "#9c179e"
             ],
             [
              0.4444444444444444,
              "#bd3786"
             ],
             [
              0.5555555555555556,
              "#d8576b"
             ],
             [
              0.6666666666666666,
              "#ed7953"
             ],
             [
              0.7777777777777778,
              "#fb9f3a"
             ],
             [
              0.8888888888888888,
              "#fdca26"
             ],
             [
              1,
              "#f0f921"
             ]
            ],
            "type": "histogram2dcontour"
           }
          ],
          "mesh3d": [
           {
            "colorbar": {
             "outlinewidth": 0,
             "ticks": ""
            },
            "type": "mesh3d"
           }
          ],
          "parcoords": [
           {
            "line": {
             "colorbar": {
              "outlinewidth": 0,
              "ticks": ""
             }
            },
            "type": "parcoords"
           }
          ],
          "pie": [
           {
            "automargin": true,
            "type": "pie"
           }
          ],
          "scatter": [
           {
            "marker": {
             "colorbar": {
              "outlinewidth": 0,
              "ticks": ""
             }
            },
            "type": "scatter"
           }
          ],
          "scatter3d": [
           {
            "line": {
             "colorbar": {
              "outlinewidth": 0,
              "ticks": ""
             }
            },
            "marker": {
             "colorbar": {
              "outlinewidth": 0,
              "ticks": ""
             }
            },
            "type": "scatter3d"
           }
          ],
          "scattercarpet": [
           {
            "marker": {
             "colorbar": {
              "outlinewidth": 0,
              "ticks": ""
             }
            },
            "type": "scattercarpet"
           }
          ],
          "scattergeo": [
           {
            "marker": {
             "colorbar": {
              "outlinewidth": 0,
              "ticks": ""
             }
            },
            "type": "scattergeo"
           }
          ],
          "scattergl": [
           {
            "marker": {
             "colorbar": {
              "outlinewidth": 0,
              "ticks": ""
             }
            },
            "type": "scattergl"
           }
          ],
          "scattermapbox": [
           {
            "marker": {
             "colorbar": {
              "outlinewidth": 0,
              "ticks": ""
             }
            },
            "type": "scattermapbox"
           }
          ],
          "scatterpolar": [
           {
            "marker": {
             "colorbar": {
              "outlinewidth": 0,
              "ticks": ""
             }
            },
            "type": "scatterpolar"
           }
          ],
          "scatterpolargl": [
           {
            "marker": {
             "colorbar": {
              "outlinewidth": 0,
              "ticks": ""
             }
            },
            "type": "scatterpolargl"
           }
          ],
          "scatterternary": [
           {
            "marker": {
             "colorbar": {
              "outlinewidth": 0,
              "ticks": ""
             }
            },
            "type": "scatterternary"
           }
          ],
          "surface": [
           {
            "colorbar": {
             "outlinewidth": 0,
             "ticks": ""
            },
            "colorscale": [
             [
              0,
              "#0d0887"
             ],
             [
              0.1111111111111111,
              "#46039f"
             ],
             [
              0.2222222222222222,
              "#7201a8"
             ],
             [
              0.3333333333333333,
              "#9c179e"
             ],
             [
              0.4444444444444444,
              "#bd3786"
             ],
             [
              0.5555555555555556,
              "#d8576b"
             ],
             [
              0.6666666666666666,
              "#ed7953"
             ],
             [
              0.7777777777777778,
              "#fb9f3a"
             ],
             [
              0.8888888888888888,
              "#fdca26"
             ],
             [
              1,
              "#f0f921"
             ]
            ],
            "type": "surface"
           }
          ],
          "table": [
           {
            "cells": {
             "fill": {
              "color": "#EBF0F8"
             },
             "line": {
              "color": "white"
             }
            },
            "header": {
             "fill": {
              "color": "#C8D4E3"
             },
             "line": {
              "color": "white"
             }
            },
            "type": "table"
           }
          ]
         },
         "layout": {
          "annotationdefaults": {
           "arrowcolor": "#2a3f5f",
           "arrowhead": 0,
           "arrowwidth": 1
          },
          "autotypenumbers": "strict",
          "coloraxis": {
           "colorbar": {
            "outlinewidth": 0,
            "ticks": ""
           }
          },
          "colorscale": {
           "diverging": [
            [
             0,
             "#8e0152"
            ],
            [
             0.1,
             "#c51b7d"
            ],
            [
             0.2,
             "#de77ae"
            ],
            [
             0.3,
             "#f1b6da"
            ],
            [
             0.4,
             "#fde0ef"
            ],
            [
             0.5,
             "#f7f7f7"
            ],
            [
             0.6,
             "#e6f5d0"
            ],
            [
             0.7,
             "#b8e186"
            ],
            [
             0.8,
             "#7fbc41"
            ],
            [
             0.9,
             "#4d9221"
            ],
            [
             1,
             "#276419"
            ]
           ],
           "sequential": [
            [
             0,
             "#0d0887"
            ],
            [
             0.1111111111111111,
             "#46039f"
            ],
            [
             0.2222222222222222,
             "#7201a8"
            ],
            [
             0.3333333333333333,
             "#9c179e"
            ],
            [
             0.4444444444444444,
             "#bd3786"
            ],
            [
             0.5555555555555556,
             "#d8576b"
            ],
            [
             0.6666666666666666,
             "#ed7953"
            ],
            [
             0.7777777777777778,
             "#fb9f3a"
            ],
            [
             0.8888888888888888,
             "#fdca26"
            ],
            [
             1,
             "#f0f921"
            ]
           ],
           "sequentialminus": [
            [
             0,
             "#0d0887"
            ],
            [
             0.1111111111111111,
             "#46039f"
            ],
            [
             0.2222222222222222,
             "#7201a8"
            ],
            [
             0.3333333333333333,
             "#9c179e"
            ],
            [
             0.4444444444444444,
             "#bd3786"
            ],
            [
             0.5555555555555556,
             "#d8576b"
            ],
            [
             0.6666666666666666,
             "#ed7953"
            ],
            [
             0.7777777777777778,
             "#fb9f3a"
            ],
            [
             0.8888888888888888,
             "#fdca26"
            ],
            [
             1,
             "#f0f921"
            ]
           ]
          },
          "colorway": [
           "#636efa",
           "#EF553B",
           "#00cc96",
           "#ab63fa",
           "#FFA15A",
           "#19d3f3",
           "#FF6692",
           "#B6E880",
           "#FF97FF",
           "#FECB52"
          ],
          "font": {
           "color": "#2a3f5f"
          },
          "geo": {
           "bgcolor": "white",
           "lakecolor": "white",
           "landcolor": "#E5ECF6",
           "showlakes": true,
           "showland": true,
           "subunitcolor": "white"
          },
          "hoverlabel": {
           "align": "left"
          },
          "hovermode": "closest",
          "mapbox": {
           "style": "light"
          },
          "paper_bgcolor": "white",
          "plot_bgcolor": "#E5ECF6",
          "polar": {
           "angularaxis": {
            "gridcolor": "white",
            "linecolor": "white",
            "ticks": ""
           },
           "bgcolor": "#E5ECF6",
           "radialaxis": {
            "gridcolor": "white",
            "linecolor": "white",
            "ticks": ""
           }
          },
          "scene": {
           "xaxis": {
            "backgroundcolor": "#E5ECF6",
            "gridcolor": "white",
            "gridwidth": 2,
            "linecolor": "white",
            "showbackground": true,
            "ticks": "",
            "zerolinecolor": "white"
           },
           "yaxis": {
            "backgroundcolor": "#E5ECF6",
            "gridcolor": "white",
            "gridwidth": 2,
            "linecolor": "white",
            "showbackground": true,
            "ticks": "",
            "zerolinecolor": "white"
           },
           "zaxis": {
            "backgroundcolor": "#E5ECF6",
            "gridcolor": "white",
            "gridwidth": 2,
            "linecolor": "white",
            "showbackground": true,
            "ticks": "",
            "zerolinecolor": "white"
           }
          },
          "shapedefaults": {
           "line": {
            "color": "#2a3f5f"
           }
          },
          "ternary": {
           "aaxis": {
            "gridcolor": "white",
            "linecolor": "white",
            "ticks": ""
           },
           "baxis": {
            "gridcolor": "white",
            "linecolor": "white",
            "ticks": ""
           },
           "bgcolor": "#E5ECF6",
           "caxis": {
            "gridcolor": "white",
            "linecolor": "white",
            "ticks": ""
           }
          },
          "title": {
           "x": 0.05
          },
          "xaxis": {
           "automargin": true,
           "gridcolor": "white",
           "linecolor": "white",
           "ticks": "",
           "title": {
            "standoff": 15
           },
           "zerolinecolor": "white",
           "zerolinewidth": 2
          },
          "yaxis": {
           "automargin": true,
           "gridcolor": "white",
           "linecolor": "white",
           "ticks": "",
           "title": {
            "standoff": 15
           },
           "zerolinecolor": "white",
           "zerolinewidth": 2
          }
         }
        },
        "title": {
         "text": "Total count of characters in each community"
        },
        "width": 1000,
        "xaxis": {
         "anchor": "y",
         "domain": [
          0,
          1
         ],
         "showticklabels": true,
         "title": {
          "text": "communities"
         },
         "type": "category"
        },
        "yaxis": {
         "anchor": "x",
         "domain": [
          0,
          1
         ],
         "title": {
          "text": "number_of_characters"
         }
        }
       }
      },
      "text/html": [
       "<div>                            <div id=\"76ba20e0-9d2e-4c3d-b0d7-f044120a2e07\" class=\"plotly-graph-div\" style=\"height:600px; width:1000px;\"></div>            <script type=\"text/javascript\">                require([\"plotly\"], function(Plotly) {                    window.PLOTLYENV=window.PLOTLYENV || {};                                    if (document.getElementById(\"76ba20e0-9d2e-4c3d-b0d7-f044120a2e07\")) {                    Plotly.newPlot(                        \"76ba20e0-9d2e-4c3d-b0d7-f044120a2e07\",                        [{\"alignmentgroup\": \"True\", \"hovertemplate\": \"color=#61bcbc<br>communities=%{x}<br>number_of_characters=%{y}<extra></extra>\", \"legendgroup\": \"#61bcbc\", \"marker\": {\"color\": \"#FD3216\"}, \"name\": \"#61bcbc\", \"offsetgroup\": \"#61bcbc\", \"orientation\": \"v\", \"showlegend\": true, \"textposition\": \"auto\", \"type\": \"bar\", \"x\": [0], \"xaxis\": \"x\", \"y\": [238], \"yaxis\": \"y\"}, {\"alignmentgroup\": \"True\", \"hovertemplate\": \"color=#96ea79<br>communities=%{x}<br>number_of_characters=%{y}<extra></extra>\", \"legendgroup\": \"#96ea79\", \"marker\": {\"color\": \"#00FE35\"}, \"name\": \"#96ea79\", \"offsetgroup\": \"#96ea79\", \"orientation\": \"v\", \"showlegend\": true, \"textposition\": \"auto\", \"type\": \"bar\", \"x\": [1], \"xaxis\": \"x\", \"y\": [116], \"yaxis\": \"y\"}, {\"alignmentgroup\": \"True\", \"hovertemplate\": \"color=#d42af7<br>communities=%{x}<br>number_of_characters=%{y}<extra></extra>\", \"legendgroup\": \"#d42af7\", \"marker\": {\"color\": \"#6A76FC\"}, \"name\": \"#d42af7\", \"offsetgroup\": \"#d42af7\", \"orientation\": \"v\", \"showlegend\": true, \"textposition\": \"auto\", \"type\": \"bar\", \"x\": [2], \"xaxis\": \"x\", \"y\": [365], \"yaxis\": \"y\"}, {\"alignmentgroup\": \"True\", \"hovertemplate\": \"color=#bbc0dc<br>communities=%{x}<br>number_of_characters=%{y}<extra></extra>\", \"legendgroup\": \"#bbc0dc\", \"marker\": {\"color\": \"#FED4C4\"}, \"name\": \"#bbc0dc\", \"offsetgroup\": \"#bbc0dc\", \"orientation\": \"v\", \"showlegend\": true, \"textposition\": \"auto\", \"type\": \"bar\", \"x\": [3], \"xaxis\": \"x\", \"y\": [50], \"yaxis\": \"y\"}, {\"alignmentgroup\": \"True\", \"hovertemplate\": \"color=#242812<br>communities=%{x}<br>number_of_characters=%{y}<extra></extra>\", \"legendgroup\": \"#242812\", \"marker\": {\"color\": \"#FE00CE\"}, \"name\": \"#242812\", \"offsetgroup\": \"#242812\", \"orientation\": \"v\", \"showlegend\": true, \"textposition\": \"auto\", \"type\": \"bar\", \"x\": [4], \"xaxis\": \"x\", \"y\": [229], \"yaxis\": \"y\"}, {\"alignmentgroup\": \"True\", \"hovertemplate\": \"color=#9b390a<br>communities=%{x}<br>number_of_characters=%{y}<extra></extra>\", \"legendgroup\": \"#9b390a\", \"marker\": {\"color\": \"#0DF9FF\"}, \"name\": \"#9b390a\", \"offsetgroup\": \"#9b390a\", \"orientation\": \"v\", \"showlegend\": true, \"textposition\": \"auto\", \"type\": \"bar\", \"x\": [5], \"xaxis\": \"x\", \"y\": [135], \"yaxis\": \"y\"}, {\"alignmentgroup\": \"True\", \"hovertemplate\": \"color=#5d84af<br>communities=%{x}<br>number_of_characters=%{y}<extra></extra>\", \"legendgroup\": \"#5d84af\", \"marker\": {\"color\": \"#F6F926\"}, \"name\": \"#5d84af\", \"offsetgroup\": \"#5d84af\", \"orientation\": \"v\", \"showlegend\": true, \"textposition\": \"auto\", \"type\": \"bar\", \"x\": [6], \"xaxis\": \"x\", \"y\": [124], \"yaxis\": \"y\"}, {\"alignmentgroup\": \"True\", \"hovertemplate\": \"color=#7c7d66<br>communities=%{x}<br>number_of_characters=%{y}<extra></extra>\", \"legendgroup\": \"#7c7d66\", \"marker\": {\"color\": \"#FF9616\"}, \"name\": \"#7c7d66\", \"offsetgroup\": \"#7c7d66\", \"orientation\": \"v\", \"showlegend\": true, \"textposition\": \"auto\", \"type\": \"bar\", \"x\": [7], \"xaxis\": \"x\", \"y\": [51], \"yaxis\": \"y\"}, {\"alignmentgroup\": \"True\", \"hovertemplate\": \"color=#081278<br>communities=%{x}<br>number_of_characters=%{y}<extra></extra>\", \"legendgroup\": \"#081278\", \"marker\": {\"color\": \"#479B55\"}, \"name\": \"#081278\", \"offsetgroup\": \"#081278\", \"orientation\": \"v\", \"showlegend\": true, \"textposition\": \"auto\", \"type\": \"bar\", \"x\": [8], \"xaxis\": \"x\", \"y\": [80], \"yaxis\": \"y\"}, {\"alignmentgroup\": \"True\", \"hovertemplate\": \"color=#f0def9<br>communities=%{x}<br>number_of_characters=%{y}<extra></extra>\", \"legendgroup\": \"#f0def9\", \"marker\": {\"color\": \"#EEA6FB\"}, \"name\": \"#f0def9\", \"offsetgroup\": \"#f0def9\", \"orientation\": \"v\", \"showlegend\": true, \"textposition\": \"auto\", \"type\": \"bar\", \"x\": [9], \"xaxis\": \"x\", \"y\": [63], \"yaxis\": \"y\"}, {\"alignmentgroup\": \"True\", \"hovertemplate\": \"color=#347152<br>communities=%{x}<br>number_of_characters=%{y}<extra></extra>\", \"legendgroup\": \"#347152\", \"marker\": {\"color\": \"#DC587D\"}, \"name\": \"#347152\", \"offsetgroup\": \"#347152\", \"orientation\": \"v\", \"showlegend\": true, \"textposition\": \"auto\", \"type\": \"bar\", \"x\": [10], \"xaxis\": \"x\", \"y\": [34], \"yaxis\": \"y\"}, {\"alignmentgroup\": \"True\", \"hovertemplate\": \"color=#934ae5<br>communities=%{x}<br>number_of_characters=%{y}<extra></extra>\", \"legendgroup\": \"#934ae5\", \"marker\": {\"color\": \"#D626FF\"}, \"name\": \"#934ae5\", \"offsetgroup\": \"#934ae5\", \"orientation\": \"v\", \"showlegend\": true, \"textposition\": \"auto\", \"type\": \"bar\", \"x\": [11], \"xaxis\": \"x\", \"y\": [32], \"yaxis\": \"y\"}, {\"alignmentgroup\": \"True\", \"hovertemplate\": \"color=#fa20e1<br>communities=%{x}<br>number_of_characters=%{y}<extra></extra>\", \"legendgroup\": \"#fa20e1\", \"marker\": {\"color\": \"#6E899C\"}, \"name\": \"#fa20e1\", \"offsetgroup\": \"#fa20e1\", \"orientation\": \"v\", \"showlegend\": true, \"textposition\": \"auto\", \"type\": \"bar\", \"x\": [12], \"xaxis\": \"x\", \"y\": [42], \"yaxis\": \"y\"}, {\"alignmentgroup\": \"True\", \"hovertemplate\": \"color=#767ebe<br>communities=%{x}<br>number_of_characters=%{y}<extra></extra>\", \"legendgroup\": \"#767ebe\", \"marker\": {\"color\": \"#00B5F7\"}, \"name\": \"#767ebe\", \"offsetgroup\": \"#767ebe\", \"orientation\": \"v\", \"showlegend\": true, \"textposition\": \"auto\", \"type\": \"bar\", \"x\": [13], \"xaxis\": \"x\", \"y\": [19], \"yaxis\": \"y\"}],                        {\"barmode\": \"relative\", \"height\": 600, \"legend\": {\"title\": {\"text\": \"Communities\"}, \"tracegroupgap\": 0}, \"template\": {\"data\": {\"bar\": [{\"error_x\": {\"color\": \"#2a3f5f\"}, \"error_y\": {\"color\": \"#2a3f5f\"}, \"marker\": {\"line\": {\"color\": \"#E5ECF6\", \"width\": 0.5}}, \"type\": \"bar\"}], \"barpolar\": [{\"marker\": {\"line\": {\"color\": \"#E5ECF6\", \"width\": 0.5}}, \"type\": \"barpolar\"}], \"carpet\": [{\"aaxis\": {\"endlinecolor\": \"#2a3f5f\", \"gridcolor\": \"white\", \"linecolor\": \"white\", \"minorgridcolor\": \"white\", \"startlinecolor\": \"#2a3f5f\"}, \"baxis\": {\"endlinecolor\": \"#2a3f5f\", \"gridcolor\": \"white\", \"linecolor\": \"white\", \"minorgridcolor\": \"white\", \"startlinecolor\": \"#2a3f5f\"}, \"type\": \"carpet\"}], \"choropleth\": [{\"colorbar\": {\"outlinewidth\": 0, \"ticks\": \"\"}, \"type\": \"choropleth\"}], \"contour\": [{\"colorbar\": {\"outlinewidth\": 0, \"ticks\": \"\"}, \"colorscale\": [[0.0, \"#0d0887\"], [0.1111111111111111, \"#46039f\"], [0.2222222222222222, \"#7201a8\"], [0.3333333333333333, \"#9c179e\"], [0.4444444444444444, \"#bd3786\"], [0.5555555555555556, \"#d8576b\"], [0.6666666666666666, \"#ed7953\"], [0.7777777777777778, \"#fb9f3a\"], [0.8888888888888888, \"#fdca26\"], [1.0, \"#f0f921\"]], \"type\": \"contour\"}], \"contourcarpet\": [{\"colorbar\": {\"outlinewidth\": 0, \"ticks\": \"\"}, \"type\": \"contourcarpet\"}], \"heatmap\": [{\"colorbar\": {\"outlinewidth\": 0, \"ticks\": \"\"}, \"colorscale\": [[0.0, \"#0d0887\"], [0.1111111111111111, \"#46039f\"], [0.2222222222222222, \"#7201a8\"], [0.3333333333333333, \"#9c179e\"], [0.4444444444444444, \"#bd3786\"], [0.5555555555555556, \"#d8576b\"], [0.6666666666666666, \"#ed7953\"], [0.7777777777777778, \"#fb9f3a\"], [0.8888888888888888, \"#fdca26\"], [1.0, \"#f0f921\"]], \"type\": \"heatmap\"}], \"heatmapgl\": [{\"colorbar\": {\"outlinewidth\": 0, \"ticks\": \"\"}, \"colorscale\": [[0.0, \"#0d0887\"], [0.1111111111111111, \"#46039f\"], [0.2222222222222222, \"#7201a8\"], [0.3333333333333333, \"#9c179e\"], [0.4444444444444444, \"#bd3786\"], [0.5555555555555556, \"#d8576b\"], [0.6666666666666666, \"#ed7953\"], [0.7777777777777778, \"#fb9f3a\"], [0.8888888888888888, \"#fdca26\"], [1.0, \"#f0f921\"]], \"type\": \"heatmapgl\"}], \"histogram\": [{\"marker\": {\"colorbar\": {\"outlinewidth\": 0, \"ticks\": \"\"}}, \"type\": \"histogram\"}], \"histogram2d\": [{\"colorbar\": {\"outlinewidth\": 0, \"ticks\": \"\"}, \"colorscale\": [[0.0, \"#0d0887\"], [0.1111111111111111, \"#46039f\"], [0.2222222222222222, \"#7201a8\"], [0.3333333333333333, \"#9c179e\"], [0.4444444444444444, \"#bd3786\"], [0.5555555555555556, \"#d8576b\"], [0.6666666666666666, \"#ed7953\"], [0.7777777777777778, \"#fb9f3a\"], [0.8888888888888888, \"#fdca26\"], [1.0, \"#f0f921\"]], \"type\": \"histogram2d\"}], \"histogram2dcontour\": [{\"colorbar\": {\"outlinewidth\": 0, \"ticks\": \"\"}, \"colorscale\": [[0.0, \"#0d0887\"], [0.1111111111111111, \"#46039f\"], [0.2222222222222222, \"#7201a8\"], [0.3333333333333333, \"#9c179e\"], [0.4444444444444444, \"#bd3786\"], [0.5555555555555556, \"#d8576b\"], [0.6666666666666666, \"#ed7953\"], [0.7777777777777778, \"#fb9f3a\"], [0.8888888888888888, \"#fdca26\"], [1.0, \"#f0f921\"]], \"type\": \"histogram2dcontour\"}], \"mesh3d\": [{\"colorbar\": {\"outlinewidth\": 0, \"ticks\": \"\"}, \"type\": \"mesh3d\"}], \"parcoords\": [{\"line\": {\"colorbar\": {\"outlinewidth\": 0, \"ticks\": \"\"}}, \"type\": \"parcoords\"}], \"pie\": [{\"automargin\": true, \"type\": \"pie\"}], \"scatter\": [{\"marker\": {\"colorbar\": {\"outlinewidth\": 0, \"ticks\": \"\"}}, \"type\": \"scatter\"}], \"scatter3d\": [{\"line\": {\"colorbar\": {\"outlinewidth\": 0, \"ticks\": \"\"}}, \"marker\": {\"colorbar\": {\"outlinewidth\": 0, \"ticks\": \"\"}}, \"type\": \"scatter3d\"}], \"scattercarpet\": [{\"marker\": {\"colorbar\": {\"outlinewidth\": 0, \"ticks\": \"\"}}, \"type\": \"scattercarpet\"}], \"scattergeo\": [{\"marker\": {\"colorbar\": {\"outlinewidth\": 0, \"ticks\": \"\"}}, \"type\": \"scattergeo\"}], \"scattergl\": [{\"marker\": {\"colorbar\": {\"outlinewidth\": 0, \"ticks\": \"\"}}, \"type\": \"scattergl\"}], \"scattermapbox\": [{\"marker\": {\"colorbar\": {\"outlinewidth\": 0, \"ticks\": \"\"}}, \"type\": \"scattermapbox\"}], \"scatterpolar\": [{\"marker\": {\"colorbar\": {\"outlinewidth\": 0, \"ticks\": \"\"}}, \"type\": \"scatterpolar\"}], \"scatterpolargl\": [{\"marker\": {\"colorbar\": {\"outlinewidth\": 0, \"ticks\": \"\"}}, \"type\": \"scatterpolargl\"}], \"scatterternary\": [{\"marker\": {\"colorbar\": {\"outlinewidth\": 0, \"ticks\": \"\"}}, \"type\": \"scatterternary\"}], \"surface\": [{\"colorbar\": {\"outlinewidth\": 0, \"ticks\": \"\"}, \"colorscale\": [[0.0, \"#0d0887\"], [0.1111111111111111, \"#46039f\"], [0.2222222222222222, \"#7201a8\"], [0.3333333333333333, \"#9c179e\"], [0.4444444444444444, \"#bd3786\"], [0.5555555555555556, \"#d8576b\"], [0.6666666666666666, \"#ed7953\"], [0.7777777777777778, \"#fb9f3a\"], [0.8888888888888888, \"#fdca26\"], [1.0, \"#f0f921\"]], \"type\": \"surface\"}], \"table\": [{\"cells\": {\"fill\": {\"color\": \"#EBF0F8\"}, \"line\": {\"color\": \"white\"}}, \"header\": {\"fill\": {\"color\": \"#C8D4E3\"}, \"line\": {\"color\": \"white\"}}, \"type\": \"table\"}]}, \"layout\": {\"annotationdefaults\": {\"arrowcolor\": \"#2a3f5f\", \"arrowhead\": 0, \"arrowwidth\": 1}, \"autotypenumbers\": \"strict\", \"coloraxis\": {\"colorbar\": {\"outlinewidth\": 0, \"ticks\": \"\"}}, \"colorscale\": {\"diverging\": [[0, \"#8e0152\"], [0.1, \"#c51b7d\"], [0.2, \"#de77ae\"], [0.3, \"#f1b6da\"], [0.4, \"#fde0ef\"], [0.5, \"#f7f7f7\"], [0.6, \"#e6f5d0\"], [0.7, \"#b8e186\"], [0.8, \"#7fbc41\"], [0.9, \"#4d9221\"], [1, \"#276419\"]], \"sequential\": [[0.0, \"#0d0887\"], [0.1111111111111111, \"#46039f\"], [0.2222222222222222, \"#7201a8\"], [0.3333333333333333, \"#9c179e\"], [0.4444444444444444, \"#bd3786\"], [0.5555555555555556, \"#d8576b\"], [0.6666666666666666, \"#ed7953\"], [0.7777777777777778, \"#fb9f3a\"], [0.8888888888888888, \"#fdca26\"], [1.0, \"#f0f921\"]], \"sequentialminus\": [[0.0, \"#0d0887\"], [0.1111111111111111, \"#46039f\"], [0.2222222222222222, \"#7201a8\"], [0.3333333333333333, \"#9c179e\"], [0.4444444444444444, \"#bd3786\"], [0.5555555555555556, \"#d8576b\"], [0.6666666666666666, \"#ed7953\"], [0.7777777777777778, \"#fb9f3a\"], [0.8888888888888888, \"#fdca26\"], [1.0, \"#f0f921\"]]}, \"colorway\": [\"#636efa\", \"#EF553B\", \"#00cc96\", \"#ab63fa\", \"#FFA15A\", \"#19d3f3\", \"#FF6692\", \"#B6E880\", \"#FF97FF\", \"#FECB52\"], \"font\": {\"color\": \"#2a3f5f\"}, \"geo\": {\"bgcolor\": \"white\", \"lakecolor\": \"white\", \"landcolor\": \"#E5ECF6\", \"showlakes\": true, \"showland\": true, \"subunitcolor\": \"white\"}, \"hoverlabel\": {\"align\": \"left\"}, \"hovermode\": \"closest\", \"mapbox\": {\"style\": \"light\"}, \"paper_bgcolor\": \"white\", \"plot_bgcolor\": \"#E5ECF6\", \"polar\": {\"angularaxis\": {\"gridcolor\": \"white\", \"linecolor\": \"white\", \"ticks\": \"\"}, \"bgcolor\": \"#E5ECF6\", \"radialaxis\": {\"gridcolor\": \"white\", \"linecolor\": \"white\", \"ticks\": \"\"}}, \"scene\": {\"xaxis\": {\"backgroundcolor\": \"#E5ECF6\", \"gridcolor\": \"white\", \"gridwidth\": 2, \"linecolor\": \"white\", \"showbackground\": true, \"ticks\": \"\", \"zerolinecolor\": \"white\"}, \"yaxis\": {\"backgroundcolor\": \"#E5ECF6\", \"gridcolor\": \"white\", \"gridwidth\": 2, \"linecolor\": \"white\", \"showbackground\": true, \"ticks\": \"\", \"zerolinecolor\": \"white\"}, \"zaxis\": {\"backgroundcolor\": \"#E5ECF6\", \"gridcolor\": \"white\", \"gridwidth\": 2, \"linecolor\": \"white\", \"showbackground\": true, \"ticks\": \"\", \"zerolinecolor\": \"white\"}}, \"shapedefaults\": {\"line\": {\"color\": \"#2a3f5f\"}}, \"ternary\": {\"aaxis\": {\"gridcolor\": \"white\", \"linecolor\": \"white\", \"ticks\": \"\"}, \"baxis\": {\"gridcolor\": \"white\", \"linecolor\": \"white\", \"ticks\": \"\"}, \"bgcolor\": \"#E5ECF6\", \"caxis\": {\"gridcolor\": \"white\", \"linecolor\": \"white\", \"ticks\": \"\"}}, \"title\": {\"x\": 0.05}, \"xaxis\": {\"automargin\": true, \"gridcolor\": \"white\", \"linecolor\": \"white\", \"ticks\": \"\", \"title\": {\"standoff\": 15}, \"zerolinecolor\": \"white\", \"zerolinewidth\": 2}, \"yaxis\": {\"automargin\": true, \"gridcolor\": \"white\", \"linecolor\": \"white\", \"ticks\": \"\", \"title\": {\"standoff\": 15}, \"zerolinecolor\": \"white\", \"zerolinewidth\": 2}}}, \"title\": {\"text\": \"Total count of characters in each community\"}, \"width\": 1000, \"xaxis\": {\"anchor\": \"y\", \"domain\": [0.0, 1.0], \"showticklabels\": true, \"title\": {\"text\": \"communities\"}, \"type\": \"category\"}, \"yaxis\": {\"anchor\": \"x\", \"domain\": [0.0, 1.0], \"title\": {\"text\": \"number_of_characters\"}}},                        {\"responsive\": true}                    ).then(function(){\n",
       "                            \n",
       "var gd = document.getElementById('76ba20e0-9d2e-4c3d-b0d7-f044120a2e07');\n",
       "var x = new MutationObserver(function (mutations, observer) {{\n",
       "        var display = window.getComputedStyle(gd).display;\n",
       "        if (!display || display === 'none') {{\n",
       "            console.log([gd, 'removed!']);\n",
       "            Plotly.purge(gd);\n",
       "            observer.disconnect();\n",
       "        }}\n",
       "}});\n",
       "\n",
       "// Listen for the removal of the full notebook cells\n",
       "var notebookContainer = gd.closest('#notebook-container');\n",
       "if (notebookContainer) {{\n",
       "    x.observe(notebookContainer, {childList: true});\n",
       "}}\n",
       "\n",
       "// Listen for the clearing of the current output cell\n",
       "var outputEl = gd.closest('.output');\n",
       "if (outputEl) {{\n",
       "    x.observe(outputEl, {childList: true});\n",
       "}}\n",
       "\n",
       "                        })                };                });            </script>        </div>"
      ]
     },
     "metadata": {},
     "output_type": "display_data"
    }
   ],
   "source": [
    "import plotly.express as px\n",
    "df = px.data.tips()\n",
    "fig = px.bar(df_com_plot, x='communities', y='number_of_characters',\n",
    "             color='color',\n",
    "             width=1500, height=400, color_discrete_sequence=px.colors.qualitative.Light24, \n",
    "             title=\"Total count of characters in each community\",\n",
    "             labels={\"Count\": \"communities\"})\n",
    "fig.update_xaxes(showticklabels=True ) \n",
    "fig.update_layout(width=1000,height=600,xaxis=dict(type = \"category\") )\n",
    "fig.update_layout(legend=dict(\n",
    "    title = \"Communities\"\n",
    "))"
   ]
  },
  {
   "cell_type": "code",
   "execution_count": 844,
   "metadata": {},
   "outputs": [
    {
     "data": {
      "image/png": "[encoded data removed]",
      "text/plain": [
       "<Figure size 1080x504 with 1 Axes>"
      ]
     },
     "metadata": {
      "needs_background": "light"
     },
     "output_type": "display_data"
    }
   ],
   "source": [
    "from collections import Counter\n",
    "\n",
    "fig = plt.figure(figsize=(15,7))\n",
    "plt.bar(range(no_communities),val , color = colors)\n",
    "plt.xticks(range(no_communities),range(no_communities))\n",
    "plt.xlabel(\"Communities\")\n",
    "plt.title('Characters in each community distribution')\n",
    "plt.show()\n",
    "fig.savefig(\"commmunity distribution\", format='png')"
   ]
  },
  {
   "cell_type": "code",
   "execution_count": null,
   "metadata": {},
   "outputs": [],
   "source": []
  },
  {
   "cell_type": "code",
   "execution_count": null,
   "metadata": {},
   "outputs": [],
   "source": []
  },
  {
   "cell_type": "code",
   "execution_count": null,
   "metadata": {},
   "outputs": [],
   "source": []
  },
  {
   "cell_type": "code",
   "execution_count": null,
   "metadata": {},
   "outputs": [],
   "source": []
  },
  {
   "cell_type": "code",
   "execution_count": 860,
   "metadata": {},
   "outputs": [],
   "source": [
    "# copy of graph\n",
    "community_graph_movies_tv = U_GCC_with_movies_tv.copy()\n",
    "\n",
    "partition_movie_tv = community_louvain.best_partition(community_graph_movies_tv)\n",
    "\n",
    "# creaate color dependent on community\n",
    "no_communities = len(set(partition_movie_tv.values()))\n",
    "colors = get_community_colors(no_communities)\n",
    "\n",
    "com = np.arange(0,no_communities)\n",
    "clr = {com[i]: colors[i] for i in range(no_communities)}\n",
    "color_com = {}\n",
    "\n",
    "for keys,values in partition_movie_tv.items():\n",
    "    color_com[keys] = {'color': clr[values]}\n",
    "\n"
   ]
  },
  {
   "cell_type": "code",
   "execution_count": 535,
   "metadata": {},
   "outputs": [],
   "source": [
    "# Add attributes to the graph\n",
    "titles = {}\n",
    "for name, data in U_GCC.nodes(data = True):\n",
    "    title = 'name: '+ name +'</br>movies: ' + str(data['movies']) +'</br>tv-serie: ' + \\\n",
    "                    str(data['tv-serie'])+'</br>Teams: ' + str(data['Team(s)']) \\\n",
    "                    +'</br>Organisation: ' + str(data['Organisation(s)']) + ' </br>citizen: ' \\\n",
    "                    + str(data['citizen']) + ' </br>specie: ' + str(data['specie']) + ' </br>status: ' \\\n",
    "                    + str(data['status'])\n",
    "    titles[name] = title\n",
    "\n",
    "# nx.set_node_attributes(D_GCC, att) # Hvis number of movies skal være node size (men så overser vi dem i tv -serier)"
   ]
  },
  {
   "cell_type": "code",
   "execution_count": 536,
   "metadata": {},
   "outputs": [],
   "source": [
    "# update attributes\n",
    "nx.set_node_attributes(U_GCC, titles, 'title')\n",
    "degrees = dict(community_graph_movies_tv.degree)\n",
    "degrees.update((key,value) for key, value in degrees.items())\n",
    "nx.set_node_attributes(community_graph_movies_tv,degrees,'size')\n",
    "nx.set_node_attributes(community_graph_movies_tv,color_com)\n",
    "\n"
   ]
  },
  {
   "cell_type": "code",
   "execution_count": 537,
   "metadata": {},
   "outputs": [],
   "source": [
    "# Create graph with all characters and movies as nodes!\n",
    "pyvis_graph(community_graph_movies_tv, 'Community Detection of Character graph', \n",
    "            'community_detection_character_show_graph.html',gravity = -30,damping=1)"
   ]
  },
  {
   "cell_type": "code",
   "execution_count": null,
   "metadata": {},
   "outputs": [],
   "source": []
  },
  {
   "cell_type": "code",
   "execution_count": null,
   "metadata": {},
   "outputs": [],
   "source": []
  },
  {
   "cell_type": "code",
   "execution_count": null,
   "metadata": {},
   "outputs": [],
   "source": []
  },
  {
   "cell_type": "code",
   "execution_count": null,
   "metadata": {},
   "outputs": [],
   "source": []
  },
  {
   "cell_type": "code",
   "execution_count": null,
   "metadata": {},
   "outputs": [],
   "source": []
  },
  {
   "cell_type": "code",
   "execution_count": null,
   "metadata": {},
   "outputs": [],
   "source": []
  },
  {
   "cell_type": "code",
   "execution_count": null,
   "metadata": {},
   "outputs": [],
   "source": []
  },
  {
   "cell_type": "code",
   "execution_count": null,
   "metadata": {},
   "outputs": [],
   "source": []
  },
  {
   "cell_type": "code",
   "execution_count": null,
   "metadata": {},
   "outputs": [],
   "source": []
  },
  {
   "cell_type": "code",
   "execution_count": null,
   "metadata": {},
   "outputs": [],
   "source": []
  },
  {
   "cell_type": "code",
   "execution_count": null,
   "metadata": {},
   "outputs": [],
   "source": []
  },
  {
   "cell_type": "code",
   "execution_count": null,
   "metadata": {},
   "outputs": [],
   "source": []
  },
  {
   "cell_type": "code",
   "execution_count": null,
   "metadata": {},
   "outputs": [],
   "source": []
  },
  {
   "cell_type": "code",
   "execution_count": null,
   "metadata": {},
   "outputs": [],
   "source": []
  },
  {
   "cell_type": "code",
   "execution_count": null,
   "metadata": {},
   "outputs": [],
   "source": []
  }
 ],
 "metadata": {
  "kernelspec": {
   "display_name": "Python 3 (ipykernel)",
   "language": "python",
   "name": "python3"
  },
  "language_info": {
   "codemirror_mode": {
    "name": "ipython",
    "version": 3
   },
   "file_extension": ".py",
   "mimetype": "text/x-python",
   "name": "python",
   "nbconvert_exporter": "python",
   "pygments_lexer": "ipython3",
   "version": "3.7.3"
  }
 },
 "nbformat": 4,
 "nbformat_minor": 2
}
